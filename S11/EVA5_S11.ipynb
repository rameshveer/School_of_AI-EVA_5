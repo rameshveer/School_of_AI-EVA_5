{
  "nbformat": 4,
  "nbformat_minor": 0,
  "metadata": {
    "kernelspec": {
      "name": "python3",
      "display_name": "Python 3"
    },
    "language_info": {
      "codemirror_mode": {
        "name": "ipython",
        "version": 3
      },
      "file_extension": ".py",
      "mimetype": "text/x-python",
      "name": "python",
      "nbconvert_exporter": "python",
      "pygments_lexer": "ipython3",
      "version": "3.6.6"
    },
    "colab": {
      "name": "EVA5 S11.ipynb",
      "provenance": [],
      "collapsed_sections": [],
      "include_colab_link": true
    },
    "accelerator": "GPU",
    "widgets": {
      "application/vnd.jupyter.widget-state+json": {
        "b5924e5d2bda44ef80b5e245a462efdb": {
          "model_module": "@jupyter-widgets/controls",
          "model_name": "HBoxModel",
          "state": {
            "_view_name": "HBoxView",
            "_dom_classes": [],
            "_model_name": "HBoxModel",
            "_view_module": "@jupyter-widgets/controls",
            "_model_module_version": "1.5.0",
            "_view_count": null,
            "_view_module_version": "1.5.0",
            "box_style": "",
            "layout": "IPY_MODEL_dcfd1963ba6b4591aef17719da2f62e0",
            "_model_module": "@jupyter-widgets/controls",
            "children": [
              "IPY_MODEL_403963c7f0844e598a77095eec204135",
              "IPY_MODEL_35fc3ecebb3140f6bbf5c60918e6a798"
            ]
          }
        },
        "dcfd1963ba6b4591aef17719da2f62e0": {
          "model_module": "@jupyter-widgets/base",
          "model_name": "LayoutModel",
          "state": {
            "_view_name": "LayoutView",
            "grid_template_rows": null,
            "right": null,
            "justify_content": null,
            "_view_module": "@jupyter-widgets/base",
            "overflow": null,
            "_model_module_version": "1.2.0",
            "_view_count": null,
            "flex_flow": null,
            "width": null,
            "min_width": null,
            "border": null,
            "align_items": null,
            "bottom": null,
            "_model_module": "@jupyter-widgets/base",
            "top": null,
            "grid_column": null,
            "overflow_y": null,
            "overflow_x": null,
            "grid_auto_flow": null,
            "grid_area": null,
            "grid_template_columns": null,
            "flex": null,
            "_model_name": "LayoutModel",
            "justify_items": null,
            "grid_row": null,
            "max_height": null,
            "align_content": null,
            "visibility": null,
            "align_self": null,
            "height": null,
            "min_height": null,
            "padding": null,
            "grid_auto_rows": null,
            "grid_gap": null,
            "max_width": null,
            "order": null,
            "_view_module_version": "1.2.0",
            "grid_template_areas": null,
            "object_position": null,
            "object_fit": null,
            "grid_auto_columns": null,
            "margin": null,
            "display": null,
            "left": null
          }
        },
        "403963c7f0844e598a77095eec204135": {
          "model_module": "@jupyter-widgets/controls",
          "model_name": "FloatProgressModel",
          "state": {
            "_view_name": "ProgressView",
            "style": "IPY_MODEL_3f559551b8f5449eb11b0184f24ec9f0",
            "_dom_classes": [],
            "description": "",
            "_model_name": "FloatProgressModel",
            "bar_style": "info",
            "max": 1,
            "_view_module": "@jupyter-widgets/controls",
            "_model_module_version": "1.5.0",
            "value": 1,
            "_view_count": null,
            "_view_module_version": "1.5.0",
            "orientation": "horizontal",
            "min": 0,
            "description_tooltip": null,
            "_model_module": "@jupyter-widgets/controls",
            "layout": "IPY_MODEL_f9f23d37a2724179be9c56676def5d82"
          }
        },
        "35fc3ecebb3140f6bbf5c60918e6a798": {
          "model_module": "@jupyter-widgets/controls",
          "model_name": "HTMLModel",
          "state": {
            "_view_name": "HTMLView",
            "style": "IPY_MODEL_de27eb7d2b5146eca6b316cd742e877a",
            "_dom_classes": [],
            "description": "",
            "_model_name": "HTMLModel",
            "placeholder": "​",
            "_view_module": "@jupyter-widgets/controls",
            "_model_module_version": "1.5.0",
            "value": " 170500096/? [00:20&lt;00:00, 32346089.66it/s]",
            "_view_count": null,
            "_view_module_version": "1.5.0",
            "description_tooltip": null,
            "_model_module": "@jupyter-widgets/controls",
            "layout": "IPY_MODEL_15d9dfb62f0440f39eca72361b815700"
          }
        },
        "3f559551b8f5449eb11b0184f24ec9f0": {
          "model_module": "@jupyter-widgets/controls",
          "model_name": "ProgressStyleModel",
          "state": {
            "_view_name": "StyleView",
            "_model_name": "ProgressStyleModel",
            "description_width": "initial",
            "_view_module": "@jupyter-widgets/base",
            "_model_module_version": "1.5.0",
            "_view_count": null,
            "_view_module_version": "1.2.0",
            "bar_color": null,
            "_model_module": "@jupyter-widgets/controls"
          }
        },
        "f9f23d37a2724179be9c56676def5d82": {
          "model_module": "@jupyter-widgets/base",
          "model_name": "LayoutModel",
          "state": {
            "_view_name": "LayoutView",
            "grid_template_rows": null,
            "right": null,
            "justify_content": null,
            "_view_module": "@jupyter-widgets/base",
            "overflow": null,
            "_model_module_version": "1.2.0",
            "_view_count": null,
            "flex_flow": null,
            "width": null,
            "min_width": null,
            "border": null,
            "align_items": null,
            "bottom": null,
            "_model_module": "@jupyter-widgets/base",
            "top": null,
            "grid_column": null,
            "overflow_y": null,
            "overflow_x": null,
            "grid_auto_flow": null,
            "grid_area": null,
            "grid_template_columns": null,
            "flex": null,
            "_model_name": "LayoutModel",
            "justify_items": null,
            "grid_row": null,
            "max_height": null,
            "align_content": null,
            "visibility": null,
            "align_self": null,
            "height": null,
            "min_height": null,
            "padding": null,
            "grid_auto_rows": null,
            "grid_gap": null,
            "max_width": null,
            "order": null,
            "_view_module_version": "1.2.0",
            "grid_template_areas": null,
            "object_position": null,
            "object_fit": null,
            "grid_auto_columns": null,
            "margin": null,
            "display": null,
            "left": null
          }
        },
        "de27eb7d2b5146eca6b316cd742e877a": {
          "model_module": "@jupyter-widgets/controls",
          "model_name": "DescriptionStyleModel",
          "state": {
            "_view_name": "StyleView",
            "_model_name": "DescriptionStyleModel",
            "description_width": "",
            "_view_module": "@jupyter-widgets/base",
            "_model_module_version": "1.5.0",
            "_view_count": null,
            "_view_module_version": "1.2.0",
            "_model_module": "@jupyter-widgets/controls"
          }
        },
        "15d9dfb62f0440f39eca72361b815700": {
          "model_module": "@jupyter-widgets/base",
          "model_name": "LayoutModel",
          "state": {
            "_view_name": "LayoutView",
            "grid_template_rows": null,
            "right": null,
            "justify_content": null,
            "_view_module": "@jupyter-widgets/base",
            "overflow": null,
            "_model_module_version": "1.2.0",
            "_view_count": null,
            "flex_flow": null,
            "width": null,
            "min_width": null,
            "border": null,
            "align_items": null,
            "bottom": null,
            "_model_module": "@jupyter-widgets/base",
            "top": null,
            "grid_column": null,
            "overflow_y": null,
            "overflow_x": null,
            "grid_auto_flow": null,
            "grid_area": null,
            "grid_template_columns": null,
            "flex": null,
            "_model_name": "LayoutModel",
            "justify_items": null,
            "grid_row": null,
            "max_height": null,
            "align_content": null,
            "visibility": null,
            "align_self": null,
            "height": null,
            "min_height": null,
            "padding": null,
            "grid_auto_rows": null,
            "grid_gap": null,
            "max_width": null,
            "order": null,
            "_view_module_version": "1.2.0",
            "grid_template_areas": null,
            "object_position": null,
            "object_fit": null,
            "grid_auto_columns": null,
            "margin": null,
            "display": null,
            "left": null
          }
        }
      }
    }
  },
  "cells": [
    {
      "cell_type": "markdown",
      "metadata": {
        "id": "view-in-github",
        "colab_type": "text"
      },
      "source": [
        "<a href=\"https://colab.research.google.com/github/rameshveer/School_of_AI-EVA_5/blob/master/S11/EVA5_S11.ipynb\" target=\"_parent\"><img src=\"https://colab.research.google.com/assets/colab-badge.svg\" alt=\"Open In Colab\"/></a>"
      ]
    },
    {
      "cell_type": "markdown",
      "metadata": {
        "id": "Ha6LDd8HfFF7"
      },
      "source": [
        "# S11 Assignment:\n",
        "\n",
        "## Write a code such that\n",
        "\n",
        "### 1. Modified Resnet Architecture\n",
        "  uses the ResNet Architecture for Cifar10:\n",
        "\n",
        "### 2. Uses One Cycle Policy such that:\n",
        "  Total Epochs = 24\n",
        "  Max at Epoch = 5\n",
        "  LRMIN = FIND\n",
        "  LRMAX = FIND\n",
        "  NO Annihilation\n",
        "### 3. Uses this transform -\n",
        "  >> RandomCrop 32, 32 (after padding of 4) \n",
        "\n",
        "  >> FlipLR \n",
        "\n",
        "  >> Followed by CutOut(8, 8)\n",
        "\n",
        "  >> Batch size = 512\n",
        "  \n",
        "  >> Target Accuracy: 90%."
      ]
    },
    {
      "cell_type": "code",
      "metadata": {
        "id": "QVbdg0z4poCc"
      },
      "source": [
        "%matplotlib inline"
      ],
      "execution_count": 1,
      "outputs": []
    },
    {
      "cell_type": "code",
      "metadata": {
        "id": "MMW2YvpyBVo1"
      },
      "source": [
        ""
      ],
      "execution_count": 1,
      "outputs": []
    },
    {
      "cell_type": "markdown",
      "metadata": {
        "id": "b2pLxP-siGFK"
      },
      "source": [
        "Install albumentation code"
      ]
    },
    {
      "cell_type": "code",
      "metadata": {
        "id": "x42u8mA6h9XH",
        "outputId": "6bd03392-98bc-444c-869f-8c05da6e1148",
        "colab": {
          "base_uri": "https://localhost:8080/",
          "height": 683
        }
      },
      "source": [
        "!pip install albumentations==0.4.5"
      ],
      "execution_count": 2,
      "outputs": [
        {
          "output_type": "stream",
          "text": [
            "Collecting albumentations==0.4.5\n",
            "\u001b[?25l  Downloading https://files.pythonhosted.org/packages/8d/40/a343ecacc7e22fe52ab9a16b84dc6165ba05ee17e3729adeb3e2ffa2b37b/albumentations-0.4.5.tar.gz (116kB)\n",
            "\u001b[K     |████████████████████████████████| 122kB 8.0MB/s \n",
            "\u001b[?25hRequirement already satisfied: numpy>=1.11.1 in /usr/local/lib/python3.6/dist-packages (from albumentations==0.4.5) (1.18.5)\n",
            "Requirement already satisfied: scipy in /usr/local/lib/python3.6/dist-packages (from albumentations==0.4.5) (1.4.1)\n",
            "Collecting imgaug<0.2.7,>=0.2.5\n",
            "\u001b[?25l  Downloading https://files.pythonhosted.org/packages/ad/2e/748dbb7bb52ec8667098bae9b585f448569ae520031932687761165419a2/imgaug-0.2.6.tar.gz (631kB)\n",
            "\u001b[K     |████████████████████████████████| 634kB 16.5MB/s \n",
            "\u001b[?25hRequirement already satisfied: PyYAML in /usr/local/lib/python3.6/dist-packages (from albumentations==0.4.5) (3.13)\n",
            "Requirement already satisfied: opencv-python>=4.1.1 in /usr/local/lib/python3.6/dist-packages (from albumentations==0.4.5) (4.1.2.30)\n",
            "Requirement already satisfied: scikit-image>=0.11.0 in /usr/local/lib/python3.6/dist-packages (from imgaug<0.2.7,>=0.2.5->albumentations==0.4.5) (0.16.2)\n",
            "Requirement already satisfied: six in /usr/local/lib/python3.6/dist-packages (from imgaug<0.2.7,>=0.2.5->albumentations==0.4.5) (1.15.0)\n",
            "Requirement already satisfied: networkx>=2.0 in /usr/local/lib/python3.6/dist-packages (from scikit-image>=0.11.0->imgaug<0.2.7,>=0.2.5->albumentations==0.4.5) (2.5)\n",
            "Requirement already satisfied: PyWavelets>=0.4.0 in /usr/local/lib/python3.6/dist-packages (from scikit-image>=0.11.0->imgaug<0.2.7,>=0.2.5->albumentations==0.4.5) (1.1.1)\n",
            "Requirement already satisfied: pillow>=4.3.0 in /usr/local/lib/python3.6/dist-packages (from scikit-image>=0.11.0->imgaug<0.2.7,>=0.2.5->albumentations==0.4.5) (7.0.0)\n",
            "Requirement already satisfied: imageio>=2.3.0 in /usr/local/lib/python3.6/dist-packages (from scikit-image>=0.11.0->imgaug<0.2.7,>=0.2.5->albumentations==0.4.5) (2.4.1)\n",
            "Requirement already satisfied: matplotlib!=3.0.0,>=2.0.0 in /usr/local/lib/python3.6/dist-packages (from scikit-image>=0.11.0->imgaug<0.2.7,>=0.2.5->albumentations==0.4.5) (3.2.2)\n",
            "Requirement already satisfied: decorator>=4.3.0 in /usr/local/lib/python3.6/dist-packages (from networkx>=2.0->scikit-image>=0.11.0->imgaug<0.2.7,>=0.2.5->albumentations==0.4.5) (4.4.2)\n",
            "Requirement already satisfied: kiwisolver>=1.0.1 in /usr/local/lib/python3.6/dist-packages (from matplotlib!=3.0.0,>=2.0.0->scikit-image>=0.11.0->imgaug<0.2.7,>=0.2.5->albumentations==0.4.5) (1.2.0)\n",
            "Requirement already satisfied: cycler>=0.10 in /usr/local/lib/python3.6/dist-packages (from matplotlib!=3.0.0,>=2.0.0->scikit-image>=0.11.0->imgaug<0.2.7,>=0.2.5->albumentations==0.4.5) (0.10.0)\n",
            "Requirement already satisfied: pyparsing!=2.0.4,!=2.1.2,!=2.1.6,>=2.0.1 in /usr/local/lib/python3.6/dist-packages (from matplotlib!=3.0.0,>=2.0.0->scikit-image>=0.11.0->imgaug<0.2.7,>=0.2.5->albumentations==0.4.5) (2.4.7)\n",
            "Requirement already satisfied: python-dateutil>=2.1 in /usr/local/lib/python3.6/dist-packages (from matplotlib!=3.0.0,>=2.0.0->scikit-image>=0.11.0->imgaug<0.2.7,>=0.2.5->albumentations==0.4.5) (2.8.1)\n",
            "Building wheels for collected packages: albumentations, imgaug\n",
            "  Building wheel for albumentations (setup.py) ... \u001b[?25l\u001b[?25hdone\n",
            "  Created wheel for albumentations: filename=albumentations-0.4.5-cp36-none-any.whl size=64378 sha256=940b2a9030309f76a4c93a4b2681d149dd534f1251d784417016237928ec1ff7\n",
            "  Stored in directory: /root/.cache/pip/wheels/f0/a0/61/e50f93165a5ec7e7f5d65064e513239505bc4c06d2289557d3\n",
            "  Building wheel for imgaug (setup.py) ... \u001b[?25l\u001b[?25hdone\n",
            "  Created wheel for imgaug: filename=imgaug-0.2.6-cp36-none-any.whl size=654021 sha256=05b13b2abc9b179bce4baaa5b96fd74d13284a4c4425dd0ee94f10c31ed2e2c0\n",
            "  Stored in directory: /root/.cache/pip/wheels/97/ec/48/0d25896c417b715af6236dbcef8f0bed136a1a5e52972fc6d0\n",
            "Successfully built albumentations imgaug\n",
            "Installing collected packages: imgaug, albumentations\n",
            "  Found existing installation: imgaug 0.2.9\n",
            "    Uninstalling imgaug-0.2.9:\n",
            "      Successfully uninstalled imgaug-0.2.9\n",
            "  Found existing installation: albumentations 0.1.12\n",
            "    Uninstalling albumentations-0.1.12:\n",
            "      Successfully uninstalled albumentations-0.1.12\n",
            "Successfully installed albumentations-0.4.5 imgaug-0.2.6\n"
          ],
          "name": "stdout"
        }
      ]
    },
    {
      "cell_type": "markdown",
      "metadata": {
        "id": "NJZYL4GTNFBS"
      },
      "source": [
        "### Import Created libraries (Specific to this excercise)"
      ]
    },
    {
      "cell_type": "code",
      "metadata": {
        "id": "tiQQtdXBnBwL"
      },
      "source": [
        "rm -rf convlib"
      ],
      "execution_count": 3,
      "outputs": []
    },
    {
      "cell_type": "code",
      "metadata": {
        "id": "dnYBj2IYNDws",
        "outputId": "4cc34220-e288-43b9-bb7f-db7646277664",
        "colab": {
          "base_uri": "https://localhost:8080/",
          "height": 136
        }
      },
      "source": [
        "!git clone https://github.com/rameshveer/convlib.git"
      ],
      "execution_count": 4,
      "outputs": [
        {
          "output_type": "stream",
          "text": [
            "Cloning into 'convlib'...\n",
            "remote: Enumerating objects: 19, done.\u001b[K\n",
            "remote: Counting objects: 100% (19/19), done.\u001b[K\n",
            "remote: Compressing objects: 100% (19/19), done.\u001b[K\n",
            "remote: Total 157 (delta 6), reused 0 (delta 0), pack-reused 138\u001b[K\n",
            "Receiving objects: 100% (157/157), 96.60 KiB | 867.00 KiB/s, done.\n",
            "Resolving deltas: 100% (66/66), done.\n"
          ],
          "name": "stdout"
        }
      ]
    },
    {
      "cell_type": "code",
      "metadata": {
        "id": "LHyo9hg_ebvc",
        "outputId": "05b4ca2b-446e-40ab-ccf7-a0fa1e61765e",
        "colab": {
          "base_uri": "https://localhost:8080/",
          "height": 85
        }
      },
      "source": [
        "!pip install -e /content/convlib"
      ],
      "execution_count": 5,
      "outputs": [
        {
          "output_type": "stream",
          "text": [
            "Obtaining file:///content/convlib\n",
            "Installing collected packages: convlib\n",
            "  Running setup.py develop for convlib\n",
            "Successfully installed convlib\n"
          ],
          "name": "stdout"
        }
      ]
    },
    {
      "cell_type": "markdown",
      "metadata": {
        "id": "gdNOtR-nLBJ1"
      },
      "source": [
        "### Importing Torch libraries\n"
      ]
    },
    {
      "cell_type": "code",
      "metadata": {
        "id": "-yVpodAMpoCi"
      },
      "source": [
        "import torch\n",
        "import torchvision\n",
        "import torch.nn as nn\n",
        "import torchvision.transforms as transforms\n",
        "import matplotlib.pyplot as plt\n",
        "import numpy as np\n",
        "from torchsummary import summary"
      ],
      "execution_count": 6,
      "outputs": []
    },
    {
      "cell_type": "markdown",
      "metadata": {
        "id": "NR7XLCNRMtj_"
      },
      "source": [
        "### Import created libraries "
      ]
    },
    {
      "cell_type": "code",
      "metadata": {
        "id": "usyEnRZkMpPs"
      },
      "source": [
        "import convlib.models.resnet as model\n",
        "import convlib.utils.cuda as cu\n",
        "import convlib.utils.dataloader as dataloader\n",
        "import convlib.utils.trainer as trainer\n",
        "import convlib.utils.evaluate as evaluate\n",
        "from convlib.data.dataset import CIFAR10\n"
      ],
      "execution_count": 7,
      "outputs": []
    },
    {
      "cell_type": "code",
      "metadata": {
        "id": "YIoymEF-BpaD"
      },
      "source": [
        "#Setup params\n",
        "\n",
        "class Args:\n",
        "    # Training\n",
        "    # ========\n",
        "    random_seed = 1\n",
        "    epochs = 24\n",
        "    learning_rate = 0.01\n",
        "    momentum = 0.9\n",
        "    lr_step_size = 25\n",
        "    lr_gamma = 0.1\n",
        "    batch_size = 64\n",
        "    num_workers=4\n",
        "    sample_count = 25\n",
        "\n",
        "    # Augmentation\n",
        "    # ============\n",
        "    horizontal_flip_prob = 0.2\n",
        "    vertical_flip_prob = 0.0\n",
        "    gaussian_blur_prob = 0.0\n",
        "    rotate_degree = 20\n",
        "    cutout = 0.3\n",
        "\n",
        "    # Means & std:\n",
        "    means = (0.5, 0.5, 0.5)\n",
        "    stdevs = (0.5, 0.5, 0.5)\n"
      ],
      "execution_count": 8,
      "outputs": []
    },
    {
      "cell_type": "markdown",
      "metadata": {
        "id": "1uiLD87kBiPg"
      },
      "source": [
        "### Setup Device"
      ]
    },
    {
      "cell_type": "code",
      "metadata": {
        "id": "eiyeITcJBoaj",
        "outputId": "a8d26923-334c-4f0d-9de9-d3e4ddc06c2a",
        "colab": {
          "base_uri": "https://localhost:8080/",
          "height": 68
        }
      },
      "source": [
        "cuda, device = cu.init_cuda(Args.random_seed)\n",
        "cuda"
      ],
      "execution_count": 9,
      "outputs": [
        {
          "output_type": "stream",
          "text": [
            "CUDA Available? True\n",
            "Device: cuda\n"
          ],
          "name": "stdout"
        },
        {
          "output_type": "execute_result",
          "data": {
            "text/plain": [
              "True"
            ]
          },
          "metadata": {
            "tags": []
          },
          "execution_count": 9
        }
      ]
    },
    {
      "cell_type": "markdown",
      "metadata": {
        "id": "pwcdheW2kvrA"
      },
      "source": [
        "Apply Albumentation params in Transforms"
      ]
    },
    {
      "cell_type": "code",
      "metadata": {
        "id": "29Rkhkr4k1BC",
        "outputId": "52e97f8f-df67-4fbd-80df-0ef753dba77d",
        "colab": {
          "base_uri": "https://localhost:8080/",
          "height": 117,
          "referenced_widgets": [
            "b5924e5d2bda44ef80b5e245a462efdb",
            "dcfd1963ba6b4591aef17719da2f62e0",
            "403963c7f0844e598a77095eec204135",
            "35fc3ecebb3140f6bbf5c60918e6a798",
            "3f559551b8f5449eb11b0184f24ec9f0",
            "f9f23d37a2724179be9c56676def5d82",
            "de27eb7d2b5146eca6b316cd742e877a",
            "15d9dfb62f0440f39eca72361b815700"
          ]
        }
      },
      "source": [
        "import albumentations as A\n",
        "\n",
        "dataset = CIFAR10(\n",
        "    train_batch_size=Args.batch_size,\n",
        "    val_batch_size=Args.batch_size,\n",
        "    cuda=cuda,\n",
        "    num_workers=Args.num_workers,\n",
        "    horizontal_flip_prob=Args.horizontal_flip_prob,\n",
        "    vertical_flip_prob=Args.vertical_flip_prob,\n",
        "    gaussian_blur_prob=Args.gaussian_blur_prob,\n",
        "    rotate_degree=Args.rotate_degree,\n",
        "    cutout=Args.cutout\n",
        ")"
      ],
      "execution_count": 10,
      "outputs": [
        {
          "output_type": "stream",
          "text": [
            "Downloading https://www.cs.toronto.edu/~kriz/cifar-10-python.tar.gz to /content/convlib/data/cifar10/cifar-10-python.tar.gz\n"
          ],
          "name": "stdout"
        },
        {
          "output_type": "display_data",
          "data": {
            "application/vnd.jupyter.widget-view+json": {
              "model_id": "b5924e5d2bda44ef80b5e245a462efdb",
              "version_minor": 0,
              "version_major": 2
            },
            "text/plain": [
              "HBox(children=(FloatProgress(value=1.0, bar_style='info', max=1.0), HTML(value='')))"
            ]
          },
          "metadata": {
            "tags": []
          }
        },
        {
          "output_type": "stream",
          "text": [
            "Extracting /content/convlib/data/cifar10/cifar-10-python.tar.gz to /content/convlib/data/cifar10\n",
            "Files already downloaded and verified\n",
            "Files already downloaded and verified\n"
          ],
          "name": "stdout"
        }
      ]
    },
    {
      "cell_type": "code",
      "metadata": {
        "id": "5Slq0tC02cDH"
      },
      "source": [
        "# Create train data loader\n",
        "train_loader = dataset.loader(train=True)\n",
        "\n",
        "# Create val data loader\n",
        "val_loader = dataset.loader(train=False)"
      ],
      "execution_count": 11,
      "outputs": []
    },
    {
      "cell_type": "code",
      "metadata": {
        "id": "zq1KDV3uMYgK"
      },
      "source": [
        "\n",
        "classes = ('plane', 'car', 'bird', 'cat',\n",
        "           'deer', 'dog', 'frog', 'horse', 'ship', 'truck')"
      ],
      "execution_count": 12,
      "outputs": []
    },
    {
      "cell_type": "markdown",
      "metadata": {
        "id": "jI-PFcPzO5LT"
      },
      "source": [
        "Summary of model"
      ]
    },
    {
      "cell_type": "code",
      "metadata": {
        "id": "_kfnS5XjPExb",
        "outputId": "adb52ec2-3df0-49cd-e367-e50098cf8db8",
        "colab": {
          "base_uri": "https://localhost:8080/",
          "height": 1000
        }
      },
      "source": [
        "from torchsummary import summary\n",
        "\n",
        "print(device)\n",
        "model = model.ResNet18().to(device)\n",
        "summary(model,input_size = (3,32,32))"
      ],
      "execution_count": 13,
      "outputs": [
        {
          "output_type": "stream",
          "text": [
            "cuda\n",
            "----------------------------------------------------------------\n",
            "        Layer (type)               Output Shape         Param #\n",
            "================================================================\n",
            "            Conv2d-1           [-1, 64, 32, 32]           1,728\n",
            "       BatchNorm2d-2           [-1, 64, 32, 32]             128\n",
            "            Conv2d-3           [-1, 64, 32, 32]          36,864\n",
            "       BatchNorm2d-4           [-1, 64, 32, 32]             128\n",
            "            Conv2d-5           [-1, 64, 32, 32]          36,864\n",
            "       BatchNorm2d-6           [-1, 64, 32, 32]             128\n",
            "        BasicBlock-7           [-1, 64, 32, 32]               0\n",
            "            Conv2d-8           [-1, 64, 32, 32]          36,864\n",
            "       BatchNorm2d-9           [-1, 64, 32, 32]             128\n",
            "           Conv2d-10           [-1, 64, 32, 32]          36,864\n",
            "      BatchNorm2d-11           [-1, 64, 32, 32]             128\n",
            "       BasicBlock-12           [-1, 64, 32, 32]               0\n",
            "           Conv2d-13          [-1, 128, 32, 32]          73,728\n",
            "      BatchNorm2d-14          [-1, 128, 32, 32]             256\n",
            "        MaxPool2d-15          [-1, 128, 16, 16]               0\n",
            "           Conv2d-16          [-1, 128, 16, 16]         147,456\n",
            "      BatchNorm2d-17          [-1, 128, 16, 16]             256\n",
            "           Conv2d-18          [-1, 128, 16, 16]           8,192\n",
            "      BatchNorm2d-19          [-1, 128, 16, 16]             256\n",
            "       BasicBlock-20          [-1, 128, 16, 16]               0\n",
            "           Conv2d-21          [-1, 128, 16, 16]         147,456\n",
            "      BatchNorm2d-22          [-1, 128, 16, 16]             256\n",
            "           Conv2d-23          [-1, 128, 16, 16]         147,456\n",
            "      BatchNorm2d-24          [-1, 128, 16, 16]             256\n",
            "       BasicBlock-25          [-1, 128, 16, 16]               0\n",
            "           Conv2d-26          [-1, 256, 16, 16]         294,912\n",
            "      BatchNorm2d-27          [-1, 256, 16, 16]             512\n",
            "        MaxPool2d-28            [-1, 256, 8, 8]               0\n",
            "           Conv2d-29            [-1, 256, 8, 8]         589,824\n",
            "      BatchNorm2d-30            [-1, 256, 8, 8]             512\n",
            "           Conv2d-31            [-1, 256, 8, 8]          32,768\n",
            "      BatchNorm2d-32            [-1, 256, 8, 8]             512\n",
            "       BasicBlock-33            [-1, 256, 8, 8]               0\n",
            "           Conv2d-34            [-1, 256, 8, 8]         589,824\n",
            "      BatchNorm2d-35            [-1, 256, 8, 8]             512\n",
            "           Conv2d-36            [-1, 256, 8, 8]         589,824\n",
            "      BatchNorm2d-37            [-1, 256, 8, 8]             512\n",
            "       BasicBlock-38            [-1, 256, 8, 8]               0\n",
            "           Conv2d-39            [-1, 512, 8, 8]       1,179,648\n",
            "      BatchNorm2d-40            [-1, 512, 8, 8]           1,024\n",
            "        MaxPool2d-41            [-1, 512, 4, 4]               0\n",
            "           Conv2d-42            [-1, 512, 4, 4]       2,359,296\n",
            "      BatchNorm2d-43            [-1, 512, 4, 4]           1,024\n",
            "           Conv2d-44            [-1, 512, 4, 4]         131,072\n",
            "      BatchNorm2d-45            [-1, 512, 4, 4]           1,024\n",
            "       BasicBlock-46            [-1, 512, 4, 4]               0\n",
            "           Conv2d-47            [-1, 512, 4, 4]       2,359,296\n",
            "      BatchNorm2d-48            [-1, 512, 4, 4]           1,024\n",
            "           Conv2d-49            [-1, 512, 4, 4]       2,359,296\n",
            "      BatchNorm2d-50            [-1, 512, 4, 4]           1,024\n",
            "       BasicBlock-51            [-1, 512, 4, 4]               0\n",
            "           Linear-52                   [-1, 10]           5,130\n",
            "================================================================\n",
            "Total params: 11,173,962\n",
            "Trainable params: 11,173,962\n",
            "Non-trainable params: 0\n",
            "----------------------------------------------------------------\n",
            "Input size (MB): 0.01\n",
            "Forward/backward pass size (MB): 14.31\n",
            "Params size (MB): 42.63\n",
            "Estimated Total Size (MB): 56.95\n",
            "----------------------------------------------------------------\n"
          ],
          "name": "stdout"
        }
      ]
    },
    {
      "cell_type": "markdown",
      "metadata": {
        "id": "0940ZPhgQD6x"
      },
      "source": [
        "Train the model"
      ]
    },
    {
      "cell_type": "code",
      "metadata": {
        "id": "VNFmAzbHQIbS",
        "outputId": "a11c7e3f-dfed-46f4-87c1-27c2d7b78de7",
        "colab": {
          "base_uri": "https://localhost:8080/",
          "height": 391
        }
      },
      "source": [
        "#Loss function and Optimizer - Let's use a Classification Cross-Entropy loss and SGD with momentum.\n",
        "\n",
        "criterion = nn.CrossEntropyLoss()\n",
        "\n",
        "from torch.optim.lr_scheduler import StepLR\n",
        "import torch.optim as optim\n",
        "\n",
        "losses = []\n",
        "accuracies = []\n",
        "correct_samples = []\n",
        "incorrect_samples = []\n",
        "\n",
        "optimizer = optim.SGD(model.parameters(), lr=0.01, momentum=0.9)\n",
        "scheduler = StepLR(optimizer, step_size=6, gamma=0.3)\n",
        "last_epoch = False\n",
        "\n",
        "for epoch in range(1, Args.epochs + 1):\n",
        "    print(f'Epoch {epoch}:')\n",
        "    if epoch == Args.epochs:\n",
        "        last_epoch = True\n",
        "    trainer.train(model, train_loader, device, optimizer, criterion)\n",
        "    scheduler.step()\n",
        "    trainer.val(\n",
        "        model, val_loader, device, criterion, losses, accuracies,\n",
        "        correct_samples, incorrect_samples, Args.sample_count, last_epoch=last_epoch\n",
        "    )\n"
      ],
      "execution_count": null,
      "outputs": [
        {
          "output_type": "stream",
          "text": [
            "\r  0%|          | 0/782 [00:00<?, ?it/s]"
          ],
          "name": "stderr"
        },
        {
          "output_type": "stream",
          "text": [
            "Epoch 1:\n"
          ],
          "name": "stdout"
        },
        {
          "output_type": "stream",
          "text": [
            "Loss=0.85 Batch_ID=781 Accuracy=53.03: 100%|██████████| 782/782 [01:04<00:00, 12.15it/s]\n",
            "  0%|          | 0/782 [00:00<?, ?it/s]"
          ],
          "name": "stderr"
        },
        {
          "output_type": "stream",
          "text": [
            "\n",
            "Validation set: Average loss: 0.0140, Accuracy: 6800/10000 (68.00%)\n",
            "\n",
            "Epoch 2:\n"
          ],
          "name": "stdout"
        },
        {
          "output_type": "stream",
          "text": [
            "Loss=0.99 Batch_ID=781 Accuracy=71.17: 100%|██████████| 782/782 [01:06<00:00, 11.71it/s]\n",
            "  0%|          | 0/782 [00:00<?, ?it/s]"
          ],
          "name": "stderr"
        },
        {
          "output_type": "stream",
          "text": [
            "\n",
            "Validation set: Average loss: 0.0117, Accuracy: 7435/10000 (74.35%)\n",
            "\n",
            "Epoch 3:\n"
          ],
          "name": "stdout"
        },
        {
          "output_type": "stream",
          "text": [
            "Loss=1.35 Batch_ID=781 Accuracy=77.15: 100%|██████████| 782/782 [01:07<00:00, 11.65it/s]\n",
            "  0%|          | 0/782 [00:00<?, ?it/s]"
          ],
          "name": "stderr"
        },
        {
          "output_type": "stream",
          "text": [
            "\n",
            "Validation set: Average loss: 0.0099, Accuracy: 7841/10000 (78.41%)\n",
            "\n",
            "Epoch 4:\n"
          ],
          "name": "stdout"
        },
        {
          "output_type": "stream",
          "text": [
            "Loss=0.60 Batch_ID=781 Accuracy=80.36: 100%|██████████| 782/782 [01:07<00:00, 11.63it/s]\n",
            "  0%|          | 0/782 [00:00<?, ?it/s]"
          ],
          "name": "stderr"
        },
        {
          "output_type": "stream",
          "text": [
            "\n",
            "Validation set: Average loss: 0.0103, Accuracy: 7848/10000 (78.48%)\n",
            "\n",
            "Epoch 5:\n"
          ],
          "name": "stdout"
        },
        {
          "output_type": "stream",
          "text": [
            "Loss=0.61 Batch_ID=329 Accuracy=82.87:  42%|████▏     | 329/782 [00:28<00:38, 11.67it/s]"
          ],
          "name": "stderr"
        }
      ]
    },
    {
      "cell_type": "code",
      "metadata": {
        "id": "lszfwpr3SgNl"
      },
      "source": [
        ""
      ],
      "execution_count": null,
      "outputs": []
    }
  ]
}