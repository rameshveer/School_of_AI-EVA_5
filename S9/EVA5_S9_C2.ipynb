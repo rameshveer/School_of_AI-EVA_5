{
  "nbformat": 4,
  "nbformat_minor": 0,
  "metadata": {
    "kernelspec": {
      "name": "python3",
      "display_name": "Python 3"
    },
    "language_info": {
      "codemirror_mode": {
        "name": "ipython",
        "version": 3
      },
      "file_extension": ".py",
      "mimetype": "text/x-python",
      "name": "python",
      "nbconvert_exporter": "python",
      "pygments_lexer": "ipython3",
      "version": "3.6.6"
    },
    "colab": {
      "name": " EVA5 S9 C2.ipynb",
      "provenance": [],
      "collapsed_sections": [],
      "include_colab_link": true
    },
    "accelerator": "GPU"
  },
  "cells": [
    {
      "cell_type": "markdown",
      "metadata": {
        "id": "view-in-github",
        "colab_type": "text"
      },
      "source": [
        "<a href=\"https://colab.research.google.com/github/rameshveer/School_of_AI-EVA_5/blob/master/S9/EVA5_S9_C2.ipynb\" target=\"_parent\"><img src=\"https://colab.research.google.com/assets/colab-badge.svg\" alt=\"Open In Colab\"/></a>"
      ]
    },
    {
      "cell_type": "markdown",
      "metadata": {
        "id": "Ha6LDd8HfFF7"
      },
      "source": [
        "S9 Assignment:\n",
        "\n",
        "1. Move your last code's transformations to Albumentations. Apply ToTensor, HorizontalFlip, Normalize (at min) + More (for additional points)\n",
        "2. Please make sure that your test_transforms are simple and only using ToTensor and Normalize\n",
        "3. Implement GradCam function as a module. \n",
        "4. Your final code (notebook file) must use imported functions to implement transformations and GradCam functionality\n",
        "5. Target Accuracy is 87%"
      ]
    },
    {
      "cell_type": "code",
      "metadata": {
        "id": "QVbdg0z4poCc"
      },
      "source": [
        "%matplotlib inline"
      ],
      "execution_count": null,
      "outputs": []
    },
    {
      "cell_type": "markdown",
      "metadata": {
        "id": "b2pLxP-siGFK"
      },
      "source": [
        "Install albumentation code"
      ]
    },
    {
      "cell_type": "code",
      "metadata": {
        "id": "x42u8mA6h9XH"
      },
      "source": [
        "#!pip install albumentations==0.4.5"
      ],
      "execution_count": null,
      "outputs": []
    },
    {
      "cell_type": "markdown",
      "metadata": {
        "id": "NJZYL4GTNFBS"
      },
      "source": [
        "### Import Created libraries (Specific to this excercise)"
      ]
    },
    {
      "cell_type": "code",
      "metadata": {
        "id": "tiQQtdXBnBwL"
      },
      "source": [
        "rm -rf convlib"
      ],
      "execution_count": null,
      "outputs": []
    },
    {
      "cell_type": "code",
      "metadata": {
        "id": "dnYBj2IYNDws",
        "outputId": "0737e1e4-a3de-4738-9e67-2cbaed1753f1",
        "colab": {
          "base_uri": "https://localhost:8080/"
        }
      },
      "source": [
        "!git clone https://github.com/rameshveer/convlib.git"
      ],
      "execution_count": null,
      "outputs": [
        {
          "output_type": "stream",
          "text": [
            "Cloning into 'convlib'...\n",
            "remote: Enumerating objects: 15, done.\u001b[K\n",
            "remote: Counting objects: 100% (15/15), done.\u001b[K\n",
            "remote: Compressing objects: 100% (15/15), done.\u001b[K\n",
            "remote: Total 153 (delta 4), reused 0 (delta 0), pack-reused 138\u001b[K\n",
            "Receiving objects: 100% (153/153), 95.84 KiB | 13.69 MiB/s, done.\n",
            "Resolving deltas: 100% (64/64), done.\n"
          ],
          "name": "stdout"
        }
      ]
    },
    {
      "cell_type": "code",
      "metadata": {
        "id": "LHyo9hg_ebvc",
        "outputId": "d99a8cf8-9653-4d11-a0a9-947a1adf9c89",
        "colab": {
          "base_uri": "https://localhost:8080/"
        }
      },
      "source": [
        "!pip install -e /content/convlib"
      ],
      "execution_count": null,
      "outputs": [
        {
          "output_type": "stream",
          "text": [
            "Obtaining file:///content/convlib\n",
            "Installing collected packages: convlib\n",
            "  Found existing installation: convlib 1.0.0\n",
            "    Can't uninstall 'convlib'. No files were found to uninstall.\n",
            "  Running setup.py develop for convlib\n",
            "Successfully installed convlib\n"
          ],
          "name": "stdout"
        }
      ]
    },
    {
      "cell_type": "markdown",
      "metadata": {
        "id": "gdNOtR-nLBJ1"
      },
      "source": [
        "### Importing Torch libraries\n"
      ]
    },
    {
      "cell_type": "code",
      "metadata": {
        "id": "-yVpodAMpoCi"
      },
      "source": [
        "import torch\n",
        "import torchvision\n",
        "import torch.nn as nn\n",
        "import torchvision.transforms as transforms\n",
        "import matplotlib.pyplot as plt\n",
        "import numpy as np\n",
        "from torchsummary import summary"
      ],
      "execution_count": null,
      "outputs": []
    },
    {
      "cell_type": "markdown",
      "metadata": {
        "id": "NR7XLCNRMtj_"
      },
      "source": [
        "### Import created libraries "
      ]
    },
    {
      "cell_type": "code",
      "metadata": {
        "id": "usyEnRZkMpPs"
      },
      "source": [
        "import convlib.models.resnet as model\n",
        "import convlib.utils.cuda as cu\n",
        "import convlib.utils.dataloader as dataloader\n",
        "import convlib.utils.trainer as trainer\n",
        "import convlib.utils.evaluate as evaluate\n",
        "from convlib.data.dataset import CIFAR10\n"
      ],
      "execution_count": null,
      "outputs": []
    },
    {
      "cell_type": "code",
      "metadata": {
        "id": "YIoymEF-BpaD"
      },
      "source": [
        "#Setup params\n",
        "\n",
        "class Args:\n",
        "    # Training\n",
        "    # ========\n",
        "    random_seed = 1\n",
        "    epochs = 20\n",
        "    learning_rate = 0.01\n",
        "    momentum = 0.9\n",
        "    lr_step_size = 25\n",
        "    lr_gamma = 0.1\n",
        "    batch_size = 64\n",
        "    num_workers=4\n",
        "    sample_count = 25\n",
        "\n",
        "    # Augmentation\n",
        "    # ============\n",
        "    horizontal_flip_prob = 0.2\n",
        "    vertical_flip_prob = 0.0\n",
        "    gaussian_blur_prob = 0.0\n",
        "    rotate_degree = 20\n",
        "    cutout = 0.3\n",
        "\n",
        "    # Means & std:\n",
        "    means = (0.5, 0.5, 0.5)\n",
        "    stdevs = (0.5, 0.5, 0.5)\n"
      ],
      "execution_count": null,
      "outputs": []
    },
    {
      "cell_type": "markdown",
      "metadata": {
        "id": "1uiLD87kBiPg"
      },
      "source": [
        "### Setup Device"
      ]
    },
    {
      "cell_type": "code",
      "metadata": {
        "id": "eiyeITcJBoaj",
        "outputId": "c6327bae-bfa0-4f4c-abc6-82fb9db25f3d",
        "colab": {
          "base_uri": "https://localhost:8080/"
        }
      },
      "source": [
        "cuda, device = cu.init_cuda(Args.random_seed)\n",
        "cuda"
      ],
      "execution_count": null,
      "outputs": [
        {
          "output_type": "stream",
          "text": [
            "CUDA Available? True\n",
            "Device: cuda\n"
          ],
          "name": "stdout"
        },
        {
          "output_type": "execute_result",
          "data": {
            "text/plain": [
              "True"
            ]
          },
          "metadata": {
            "tags": []
          },
          "execution_count": 9
        }
      ]
    },
    {
      "cell_type": "markdown",
      "metadata": {
        "id": "pwcdheW2kvrA"
      },
      "source": [
        "Apply Albumentation params in Transforms"
      ]
    },
    {
      "cell_type": "code",
      "metadata": {
        "id": "29Rkhkr4k1BC",
        "outputId": "e54c5682-29be-4137-af3e-d34d1d28fe41",
        "colab": {
          "base_uri": "https://localhost:8080/",
          "referenced_widgets": [
            "01046be6d7464e5185c37232cc3e97cc"
          ]
        }
      },
      "source": [
        "import albumentations as A\n",
        "\n",
        "dataset = CIFAR10(\n",
        "    train_batch_size=Args.batch_size,\n",
        "    val_batch_size=Args.batch_size,\n",
        "    cuda=cuda,\n",
        "    num_workers=Args.num_workers,\n",
        "    horizontal_flip_prob=Args.horizontal_flip_prob,\n",
        "    vertical_flip_prob=Args.vertical_flip_prob,\n",
        "    gaussian_blur_prob=Args.gaussian_blur_prob,\n",
        "    rotate_degree=Args.rotate_degree,\n",
        "    cutout=Args.cutout\n",
        ")"
      ],
      "execution_count": null,
      "outputs": [
        {
          "output_type": "stream",
          "text": [
            "Downloading https://www.cs.toronto.edu/~kriz/cifar-10-python.tar.gz to /content/convlib/data/cifar10/cifar-10-python.tar.gz\n"
          ],
          "name": "stdout"
        },
        {
          "output_type": "display_data",
          "data": {
            "application/vnd.jupyter.widget-view+json": {
              "model_id": "01046be6d7464e5185c37232cc3e97cc",
              "version_minor": 0,
              "version_major": 2
            },
            "text/plain": [
              "HBox(children=(FloatProgress(value=1.0, bar_style='info', max=1.0), HTML(value='')))"
            ]
          },
          "metadata": {
            "tags": []
          }
        },
        {
          "output_type": "stream",
          "text": [
            "Extracting /content/convlib/data/cifar10/cifar-10-python.tar.gz to /content/convlib/data/cifar10\n",
            "Files already downloaded and verified\n",
            "Files already downloaded and verified\n"
          ],
          "name": "stdout"
        }
      ]
    },
    {
      "cell_type": "code",
      "metadata": {
        "id": "5Slq0tC02cDH"
      },
      "source": [
        "# Create train data loader\n",
        "train_loader = dataset.loader(train=True)\n",
        "\n",
        "# Create val data loader\n",
        "val_loader = dataset.loader(train=False)"
      ],
      "execution_count": null,
      "outputs": []
    },
    {
      "cell_type": "code",
      "metadata": {
        "id": "zq1KDV3uMYgK"
      },
      "source": [
        "\n",
        "classes = ('plane', 'car', 'bird', 'cat',\n",
        "           'deer', 'dog', 'frog', 'horse', 'ship', 'truck')"
      ],
      "execution_count": null,
      "outputs": []
    },
    {
      "cell_type": "markdown",
      "metadata": {
        "id": "jI-PFcPzO5LT"
      },
      "source": [
        "Summary of model"
      ]
    },
    {
      "cell_type": "code",
      "metadata": {
        "id": "_kfnS5XjPExb",
        "outputId": "c9d693f0-17b1-4803-af9b-06c55fbe47e8",
        "colab": {
          "base_uri": "https://localhost:8080/"
        }
      },
      "source": [
        "from torchsummary import summary\n",
        "\n",
        "print(device)\n",
        "model = model.ResNet18().to(device)\n",
        "summary(model,input_size = (3,32,32))"
      ],
      "execution_count": null,
      "outputs": [
        {
          "output_type": "stream",
          "text": [
            "cuda\n",
            "----------------------------------------------------------------\n",
            "        Layer (type)               Output Shape         Param #\n",
            "================================================================\n",
            "            Conv2d-1           [-1, 64, 32, 32]           1,728\n",
            "       BatchNorm2d-2           [-1, 64, 32, 32]             128\n",
            "            Conv2d-3           [-1, 64, 32, 32]          36,864\n",
            "       BatchNorm2d-4           [-1, 64, 32, 32]             128\n",
            "            Conv2d-5           [-1, 64, 32, 32]          36,864\n",
            "       BatchNorm2d-6           [-1, 64, 32, 32]             128\n",
            "        BasicBlock-7           [-1, 64, 32, 32]               0\n",
            "            Conv2d-8           [-1, 64, 32, 32]          36,864\n",
            "       BatchNorm2d-9           [-1, 64, 32, 32]             128\n",
            "           Conv2d-10           [-1, 64, 32, 32]          36,864\n",
            "      BatchNorm2d-11           [-1, 64, 32, 32]             128\n",
            "       BasicBlock-12           [-1, 64, 32, 32]               0\n",
            "           Conv2d-13          [-1, 128, 32, 32]          73,728\n",
            "      BatchNorm2d-14          [-1, 128, 32, 32]             256\n",
            "        MaxPool2d-15          [-1, 128, 16, 16]               0\n",
            "           Conv2d-16          [-1, 128, 16, 16]         147,456\n",
            "      BatchNorm2d-17          [-1, 128, 16, 16]             256\n",
            "           Conv2d-18          [-1, 128, 16, 16]           8,192\n",
            "      BatchNorm2d-19          [-1, 128, 16, 16]             256\n",
            "       BasicBlock-20          [-1, 128, 16, 16]               0\n",
            "           Conv2d-21          [-1, 128, 16, 16]         147,456\n",
            "      BatchNorm2d-22          [-1, 128, 16, 16]             256\n",
            "           Conv2d-23          [-1, 128, 16, 16]         147,456\n",
            "      BatchNorm2d-24          [-1, 128, 16, 16]             256\n",
            "       BasicBlock-25          [-1, 128, 16, 16]               0\n",
            "           Conv2d-26          [-1, 256, 16, 16]         294,912\n",
            "      BatchNorm2d-27          [-1, 256, 16, 16]             512\n",
            "        MaxPool2d-28            [-1, 256, 8, 8]               0\n",
            "           Conv2d-29            [-1, 256, 8, 8]         589,824\n",
            "      BatchNorm2d-30            [-1, 256, 8, 8]             512\n",
            "           Conv2d-31            [-1, 256, 8, 8]          32,768\n",
            "      BatchNorm2d-32            [-1, 256, 8, 8]             512\n",
            "       BasicBlock-33            [-1, 256, 8, 8]               0\n",
            "           Conv2d-34            [-1, 256, 8, 8]         589,824\n",
            "      BatchNorm2d-35            [-1, 256, 8, 8]             512\n",
            "           Conv2d-36            [-1, 256, 8, 8]         589,824\n",
            "      BatchNorm2d-37            [-1, 256, 8, 8]             512\n",
            "       BasicBlock-38            [-1, 256, 8, 8]               0\n",
            "           Conv2d-39            [-1, 512, 8, 8]       1,179,648\n",
            "      BatchNorm2d-40            [-1, 512, 8, 8]           1,024\n",
            "        MaxPool2d-41            [-1, 512, 4, 4]               0\n",
            "           Conv2d-42            [-1, 512, 4, 4]       2,359,296\n",
            "      BatchNorm2d-43            [-1, 512, 4, 4]           1,024\n",
            "           Conv2d-44            [-1, 512, 4, 4]         131,072\n",
            "      BatchNorm2d-45            [-1, 512, 4, 4]           1,024\n",
            "       BasicBlock-46            [-1, 512, 4, 4]               0\n",
            "           Conv2d-47            [-1, 512, 4, 4]       2,359,296\n",
            "      BatchNorm2d-48            [-1, 512, 4, 4]           1,024\n",
            "           Conv2d-49            [-1, 512, 4, 4]       2,359,296\n",
            "      BatchNorm2d-50            [-1, 512, 4, 4]           1,024\n",
            "       BasicBlock-51            [-1, 512, 4, 4]               0\n",
            "           Linear-52                   [-1, 10]           5,130\n",
            "================================================================\n",
            "Total params: 11,173,962\n",
            "Trainable params: 11,173,962\n",
            "Non-trainable params: 0\n",
            "----------------------------------------------------------------\n",
            "Input size (MB): 0.01\n",
            "Forward/backward pass size (MB): 14.31\n",
            "Params size (MB): 42.63\n",
            "Estimated Total Size (MB): 56.95\n",
            "----------------------------------------------------------------\n"
          ],
          "name": "stdout"
        }
      ]
    },
    {
      "cell_type": "markdown",
      "metadata": {
        "id": "0940ZPhgQD6x"
      },
      "source": [
        "Train the model"
      ]
    },
    {
      "cell_type": "code",
      "metadata": {
        "id": "VNFmAzbHQIbS",
        "outputId": "ddb1d81a-dbb8-4938-f7f4-ce06581e8fc7",
        "colab": {
          "base_uri": "https://localhost:8080/",
          "height": 221
        }
      },
      "source": [
        "#Loss function and Optimizer - Let's use a Classification Cross-Entropy loss and SGD with momentum.\n",
        "\n",
        "criterion = nn.CrossEntropyLoss()\n",
        "\n",
        "from torch.optim.lr_scheduler import StepLR\n",
        "import torch.optim as optim\n",
        "\n",
        "losses = []\n",
        "accuracies = []\n",
        "correct_samples = []\n",
        "incorrect_samples = []\n",
        "\n",
        "optimizer = optim.SGD(model.parameters(), lr=0.01, momentum=0.9)\n",
        "scheduler = StepLR(optimizer, step_size=6, gamma=0.3)\n",
        "last_epoch = False\n",
        "\n",
        "for epoch in range(1, Args.epochs + 1):\n",
        "    print(f'Epoch {epoch}:')\n",
        "    if epoch == Args.epochs:\n",
        "        last_epoch = True\n",
        "    trainer.train(model, train_loader, device, optimizer, criterion)\n",
        "    scheduler.step()\n",
        "    trainer.val(\n",
        "        model, val_loader, device, criterion, losses, accuracies,\n",
        "        correct_samples, incorrect_samples, Args.sample_count, last_epoch=last_epoch\n",
        "    )\n"
      ],
      "execution_count": null,
      "outputs": [
        {
          "output_type": "stream",
          "text": [
            "\r  0%|          | 0/782 [00:00<?, ?it/s]"
          ],
          "name": "stderr"
        },
        {
          "output_type": "stream",
          "text": [
            "Epoch 1:\n"
          ],
          "name": "stdout"
        },
        {
          "output_type": "stream",
          "text": [
            "Loss=0.92 Batch_ID=781 Accuracy=53.18: 100%|██████████| 782/782 [01:07<00:00, 11.50it/s]\n",
            "  0%|          | 0/782 [00:00<?, ?it/s]"
          ],
          "name": "stderr"
        },
        {
          "output_type": "stream",
          "text": [
            "\n",
            "Validation set: Average loss: 0.0141, Accuracy: 6864/10000 (68.64%)\n",
            "\n",
            "Epoch 2:\n"
          ],
          "name": "stdout"
        },
        {
          "output_type": "stream",
          "text": [
            "Loss=1.03 Batch_ID=781 Accuracy=71.24: 100%|██████████| 782/782 [01:07<00:00, 11.53it/s]\n",
            "  0%|          | 0/782 [00:00<?, ?it/s]"
          ],
          "name": "stderr"
        },
        {
          "output_type": "stream",
          "text": [
            "\n",
            "Validation set: Average loss: 0.0118, Accuracy: 7429/10000 (74.29%)\n",
            "\n",
            "Epoch 3:\n"
          ],
          "name": "stdout"
        },
        {
          "output_type": "stream",
          "text": [
            "Loss=0.62 Batch_ID=519 Accuracy=76.50:  66%|██████▋   | 519/782 [00:45<00:22, 11.47it/s]"
          ],
          "name": "stderr"
        }
      ]
    },
    {
      "cell_type": "markdown",
      "metadata": {
        "id": "Khrn60udR_px"
      },
      "source": [
        "Evalutate "
      ]
    },
    {
      "cell_type": "code",
      "metadata": {
        "id": "lszfwpr3SgNl"
      },
      "source": [
        ""
      ],
      "execution_count": null,
      "outputs": []
    }
  ]
}