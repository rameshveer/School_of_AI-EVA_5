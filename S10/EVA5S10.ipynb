{
 "cells": [
  {
   "cell_type": "markdown",
   "metadata": {
    "colab_type": "text",
    "id": "QxWwB9Po6i5u"
   },
   "source": [
    "# Installing Packages"
   ]
  },
  {
   "cell_type": "code",
   "execution_count": 1,
   "metadata": {
    "colab": {},
    "colab_type": "code",
    "id": "JAM56MKzD2dq"
   },
   "outputs": [
    {
     "name": "stdout",
     "output_type": "stream",
     "text": [
      "Requirement already satisfied: albumentations==0.4.5 in c:\\users\\divva\\anaconda3\\lib\\site-packages (0.4.5)\n",
      "Requirement already satisfied: scipy in c:\\users\\divva\\anaconda3\\lib\\site-packages (from albumentations==0.4.5) (1.2.1)\n",
      "Requirement already satisfied: imgaug<0.2.7,>=0.2.5 in c:\\users\\divva\\anaconda3\\lib\\site-packages (from albumentations==0.4.5) (0.2.6)\n",
      "Requirement already satisfied: PyYAML in c:\\users\\divva\\anaconda3\\lib\\site-packages (from albumentations==0.4.5) (5.1.1)\n",
      "Requirement already satisfied: opencv-python-headless>=4.1.1 in c:\\users\\divva\\anaconda3\\lib\\site-packages (from albumentations==0.4.5) (4.2.0.32)\n",
      "Requirement already satisfied: numpy>=1.11.1 in c:\\users\\divva\\anaconda3\\lib\\site-packages (from albumentations==0.4.5) (1.16.4)\n",
      "Requirement already satisfied: scikit-image>=0.11.0 in c:\\users\\divva\\anaconda3\\lib\\site-packages (from imgaug<0.2.7,>=0.2.5->albumentations==0.4.5) (0.15.0)\n",
      "Requirement already satisfied: six in c:\\users\\divva\\anaconda3\\lib\\site-packages (from imgaug<0.2.7,>=0.2.5->albumentations==0.4.5) (1.12.0)\n",
      "Requirement already satisfied: pillow>=4.3.0 in c:\\users\\divva\\anaconda3\\lib\\site-packages (from scikit-image>=0.11.0->imgaug<0.2.7,>=0.2.5->albumentations==0.4.5) (6.1.0)\n",
      "Requirement already satisfied: PyWavelets>=0.4.0 in c:\\users\\divva\\anaconda3\\lib\\site-packages (from scikit-image>=0.11.0->imgaug<0.2.7,>=0.2.5->albumentations==0.4.5) (1.0.3)\n",
      "Requirement already satisfied: matplotlib!=3.0.0,>=2.0.0 in c:\\users\\divva\\anaconda3\\lib\\site-packages (from scikit-image>=0.11.0->imgaug<0.2.7,>=0.2.5->albumentations==0.4.5) (3.1.0)\n",
      "Requirement already satisfied: imageio>=2.0.1 in c:\\users\\divva\\anaconda3\\lib\\site-packages (from scikit-image>=0.11.0->imgaug<0.2.7,>=0.2.5->albumentations==0.4.5) (2.5.0)\n",
      "Requirement already satisfied: networkx>=2.0 in c:\\users\\divva\\anaconda3\\lib\\site-packages (from scikit-image>=0.11.0->imgaug<0.2.7,>=0.2.5->albumentations==0.4.5) (2.3)\n",
      "Requirement already satisfied: cycler>=0.10 in c:\\users\\divva\\anaconda3\\lib\\site-packages (from matplotlib!=3.0.0,>=2.0.0->scikit-image>=0.11.0->imgaug<0.2.7,>=0.2.5->albumentations==0.4.5) (0.10.0)\n",
      "Requirement already satisfied: kiwisolver>=1.0.1 in c:\\users\\divva\\anaconda3\\lib\\site-packages (from matplotlib!=3.0.0,>=2.0.0->scikit-image>=0.11.0->imgaug<0.2.7,>=0.2.5->albumentations==0.4.5) (1.1.0)\n",
      "Requirement already satisfied: pyparsing!=2.0.4,!=2.1.2,!=2.1.6,>=2.0.1 in c:\\users\\divva\\anaconda3\\lib\\site-packages (from matplotlib!=3.0.0,>=2.0.0->scikit-image>=0.11.0->imgaug<0.2.7,>=0.2.5->albumentations==0.4.5) (2.4.0)\n",
      "Requirement already satisfied: python-dateutil>=2.1 in c:\\users\\divva\\anaconda3\\lib\\site-packages (from matplotlib!=3.0.0,>=2.0.0->scikit-image>=0.11.0->imgaug<0.2.7,>=0.2.5->albumentations==0.4.5) (2.8.0)\n",
      "Requirement already satisfied: decorator>=4.3.0 in c:\\users\\divva\\anaconda3\\lib\\site-packages (from networkx>=2.0->scikit-image>=0.11.0->imgaug<0.2.7,>=0.2.5->albumentations==0.4.5) (4.4.0)\n",
      "Requirement already satisfied: setuptools in c:\\users\\divva\\anaconda3\\lib\\site-packages (from kiwisolver>=1.0.1->matplotlib!=3.0.0,>=2.0.0->scikit-image>=0.11.0->imgaug<0.2.7,>=0.2.5->albumentations==0.4.5) (41.0.1)\n"
     ]
    }
   ],
   "source": [
    "!pip install albumentations==0.4.5"
   ]
  },
  {
   "cell_type": "code",
   "execution_count": 2,
   "metadata": {},
   "outputs": [
    {
     "name": "stdout",
     "output_type": "stream",
     "text": [
      "Config variable 'Py_DEBUG' is unset, Python ABI tag may be incorrect\n",
      "Config variable 'WITH_PYMALLOC' is unset, Python ABI tag may be incorrect\n",
      "Created temporary directory: C:\\Users\\divva\\AppData\\Local\\Temp\\pip-ephem-wheel-cache-w8iuy7iv\n",
      "Created temporary directory: C:\\Users\\divva\\AppData\\Local\\Temp\\pip-req-tracker-s1ki3l96\n",
      "Created requirements tracker 'C:\\\\Users\\\\divva\\\\AppData\\\\Local\\\\Temp\\\\pip-req-tracker-s1ki3l96'\n",
      "Created temporary directory: C:\\Users\\divva\\AppData\\Local\\Temp\\pip-install-jrob1n9n\n",
      "Requirement already satisfied: torch-lr-finder in c:\\users\\divva\\anaconda3\\lib\\site-packages (0.1.3)\n",
      "Requirement already satisfied: matplotlib in c:\\users\\divva\\anaconda3\\lib\\site-packages (from torch-lr-finder) (3.1.0)\n",
      "Requirement already satisfied: numpy in c:\\users\\divva\\anaconda3\\lib\\site-packages (from torch-lr-finder) (1.16.4)\n",
      "Requirement already satisfied: torch>=0.4.1 in c:\\users\\divva\\anaconda3\\lib\\site-packages (from torch-lr-finder) (1.2.0)\n",
      "Requirement already satisfied: tqdm in c:\\users\\divva\\anaconda3\\lib\\site-packages (from torch-lr-finder) (4.32.1)\n",
      "Requirement already satisfied: cycler>=0.10 in c:\\users\\divva\\anaconda3\\lib\\site-packages (from matplotlib->torch-lr-finder) (0.10.0)\n",
      "Requirement already satisfied: kiwisolver>=1.0.1 in c:\\users\\divva\\anaconda3\\lib\\site-packages (from matplotlib->torch-lr-finder) (1.1.0)\n",
      "Requirement already satisfied: pyparsing!=2.0.4,!=2.1.2,!=2.1.6,>=2.0.1 in c:\\users\\divva\\anaconda3\\lib\\site-packages (from matplotlib->torch-lr-finder) (2.4.0)\n",
      "Requirement already satisfied: python-dateutil>=2.1 in c:\\users\\divva\\anaconda3\\lib\\site-packages (from matplotlib->torch-lr-finder) (2.8.0)\n",
      "Requirement already satisfied: six in c:\\users\\divva\\anaconda3\\lib\\site-packages (from cycler>=0.10->matplotlib->torch-lr-finder) (1.12.0)\n",
      "Requirement already satisfied: setuptools in c:\\users\\divva\\anaconda3\\lib\\site-packages (from kiwisolver>=1.0.1->matplotlib->torch-lr-finder) (41.0.1)\n",
      "Cleaning up...\n",
      "Removed build tracker 'C:\\\\Users\\\\divva\\\\AppData\\\\Local\\\\Temp\\\\pip-req-tracker-s1ki3l96'\n",
      "Note: you may need to restart the kernel to use updated packages.\n"
     ]
    },
    {
     "name": "stderr",
     "output_type": "stream",
     "text": [
      "C:\\Users\\divva\\Anaconda3\\lib\\site-packages\\pip\\_internal\\commands\\install.py:244: UserWarning: Disabling all use of wheels due to the use of --build-options / --global-options / --install-options.\n",
      "  cmdoptions.check_install_build_global(options)\n"
     ]
    }
   ],
   "source": [
    "pip install torch-lr-finder -v --global-option=\"amp\""
   ]
  },
  {
   "cell_type": "markdown",
   "metadata": {
    "colab_type": "text",
    "id": "aO-7t1Y7-hV4"
   },
   "source": [
    "# Imports\n",
    "Importing necessary packages and modules"
   ]
  },
  {
   "cell_type": "code",
   "execution_count": 3,
   "metadata": {
    "colab": {},
    "colab_type": "code",
    "id": "-yVpodAMpoCi"
   },
   "outputs": [
    {
     "name": "stderr",
     "output_type": "stream",
     "text": [
      "C:\\Users\\divva\\Anaconda3\\lib\\site-packages\\tqdm\\autonotebook\\__init__.py:14: TqdmExperimentalWarning: Using `tqdm.autonotebook.tqdm` in notebook mode. Use `tqdm.tqdm` instead to force console mode (e.g. in jupyter console)\n",
      "  \" (e.g. in jupyter console)\", TqdmExperimentalWarning)\n",
      "WARNING:LR_finder.lr_finder:To enable mixed precision training, please install `apex`. Or you can re-install this package by the following command:\n",
      "  pip install torch-lr-finder -v --global-option=\"amp\"\n"
     ]
    }
   ],
   "source": [
    "%matplotlib inline\n",
    "\n",
    "import random\n",
    "\n",
    "from torchsummary import summary\n",
    "\n",
    "from cuda import initialize_cuda\n",
    "from data.dataset import CIFAR10\n",
    "from model import ResNet18\n",
    "from model.utils.loss import cross_entropy_loss\n",
    "from model.utils.optimizers import sgd_optimizer\n",
    "from model.utils.callbacks import lr_scheduler\n",
    "from model.utils.callbacks import reduceLRonplateau\n",
    "from gradcam import GradCAMView\n",
    "from train import train\n",
    "from evaluate import val\n",
    "from result import plot_metric, save_and_show_result\n",
    "from LR_finder.lr_finder import LRFinder\n",
    "import torch"
   ]
  },
  {
   "cell_type": "markdown",
   "metadata": {
    "colab_type": "text",
    "id": "-7CMwrhPDw5b"
   },
   "source": [
    "# Configuration\n",
    "\n",
    "Set various parameters and hyperparameters"
   ]
  },
  {
   "cell_type": "code",
   "execution_count": 4,
   "metadata": {
    "colab": {},
    "colab_type": "code",
    "id": "cq_Mo-qRD79h"
   },
   "outputs": [],
   "source": [
    "class Args:\n",
    "\n",
    "    # Data Loading\n",
    "    # ============\n",
    "\n",
    "    train_batch_size = 64\n",
    "    val_batch_size = 64\n",
    "    num_workers = 4\n",
    "\n",
    "    # Augmentation\n",
    "    # ============\n",
    "    horizontal_flip_prob = 0.2\n",
    "    vertical_flip_prob = 0.0\n",
    "    gaussian_blur_prob = 0.0\n",
    "    rotate_degree = 20\n",
    "    cutout = 0.3\n",
    "\n",
    "    # Training\n",
    "    # ========\n",
    "    random_seed = 1\n",
    "    epochs = 50\n",
    "    learning_rate = 0.01\n",
    "    momentum = 0.9\n",
    "    lr_step_size = 25\n",
    "    lr_gamma = 0.1\n",
    "\n",
    "    # Evaluation\n",
    "    # ==========\n",
    "    sample_count = 25"
   ]
  },
  {
   "cell_type": "markdown",
   "metadata": {
    "colab_type": "text",
    "id": "Ve_XDp27GSN_"
   },
   "source": [
    "## Set Seed and Get GPU Availability"
   ]
  },
  {
   "cell_type": "code",
   "execution_count": 5,
   "metadata": {
    "colab": {
     "base_uri": "https://localhost:8080/",
     "height": 34
    },
    "colab_type": "code",
    "id": "CxVy79mmfQ1e",
    "outputId": "3aa0c6b8-1957-4d3f-d9b3-ef2ce880ee66"
   },
   "outputs": [
    {
     "name": "stdout",
     "output_type": "stream",
     "text": [
      "GPU Available? True\n"
     ]
    }
   ],
   "source": [
    "# Initialize CUDA and set random seed\n",
    "cuda, device = initialize_cuda(Args.random_seed)"
   ]
  },
  {
   "cell_type": "markdown",
   "metadata": {
    "colab_type": "text",
    "id": "cKi2t8X-CKJ5"
   },
   "source": [
    "## Download Dataset\n",
    "\n",
    "Importing the CIFAR-10 class to download dataset and create data loader"
   ]
  },
  {
   "cell_type": "code",
   "execution_count": 6,
   "metadata": {
    "colab": {
     "base_uri": "https://localhost:8080/",
     "height": 70
    },
    "colab_type": "code",
    "id": "QZjDtZVLGXh-",
    "outputId": "3b427bc5-70ea-4aea-a2f6-d0a9943b0114"
   },
   "outputs": [
    {
     "name": "stdout",
     "output_type": "stream",
     "text": [
      "Files already downloaded and verified\n",
      "Files already downloaded and verified\n",
      "Files already downloaded and verified\n"
     ]
    }
   ],
   "source": [
    "dataset = CIFAR10(\n",
    "    train_batch_size=Args.train_batch_size,\n",
    "    val_batch_size=Args.val_batch_size,\n",
    "    cuda=cuda,\n",
    "    num_workers=Args.num_workers,\n",
    "    horizontal_flip_prob=Args.horizontal_flip_prob,\n",
    "    vertical_flip_prob=Args.vertical_flip_prob,\n",
    "    gaussian_blur_prob=Args.gaussian_blur_prob,\n",
    "    rotate_degree=Args.rotate_degree,\n",
    "    cutout=Args.cutout\n",
    ")"
   ]
  },
  {
   "cell_type": "markdown",
   "metadata": {
    "colab_type": "text",
    "id": "qFcWRAeY_MsB"
   },
   "source": [
    "## Training and Validation Dataloaders\n",
    "This is the final step in data preparation. It sets the dataloader arguments and then creates the dataloader"
   ]
  },
  {
   "cell_type": "code",
   "execution_count": 7,
   "metadata": {
    "colab": {},
    "colab_type": "code",
    "id": "D8Tjigo2poCl"
   },
   "outputs": [],
   "source": [
    "# Create train data loader\n",
    "train_loader = dataset.loader(train=True)\n",
    "\n",
    "# Create val data loader\n",
    "val_loader = dataset.loader(train=False)"
   ]
  },
  {
   "cell_type": "markdown",
   "metadata": {
    "colab_type": "text",
    "id": "HSeDIqBq-6pC"
   },
   "source": [
    "# Model Architecture and Summary"
   ]
  },
  {
   "cell_type": "code",
   "execution_count": 8,
   "metadata": {
    "colab": {
     "base_uri": "https://localhost:8080/",
     "height": 1000
    },
    "colab_type": "code",
    "id": "vMmcgGBIguNc",
    "outputId": "b0f87945-6258-4eea-d1e1-1dc8fa51b422"
   },
   "outputs": [
    {
     "name": "stdout",
     "output_type": "stream",
     "text": [
      "----------------------------------------------------------------\n",
      "        Layer (type)               Output Shape         Param #\n",
      "================================================================\n",
      "            Conv2d-1           [-1, 64, 32, 32]           1,728\n",
      "       BatchNorm2d-2           [-1, 64, 32, 32]             128\n",
      "            Conv2d-3           [-1, 64, 32, 32]          36,864\n",
      "       BatchNorm2d-4           [-1, 64, 32, 32]             128\n",
      "            Conv2d-5           [-1, 64, 32, 32]          36,864\n",
      "       BatchNorm2d-6           [-1, 64, 32, 32]             128\n",
      "        BasicBlock-7           [-1, 64, 32, 32]               0\n",
      "            Conv2d-8           [-1, 64, 32, 32]          36,864\n",
      "       BatchNorm2d-9           [-1, 64, 32, 32]             128\n",
      "           Conv2d-10           [-1, 64, 32, 32]          36,864\n",
      "      BatchNorm2d-11           [-1, 64, 32, 32]             128\n",
      "       BasicBlock-12           [-1, 64, 32, 32]               0\n",
      "           Conv2d-13          [-1, 128, 16, 16]          73,728\n",
      "      BatchNorm2d-14          [-1, 128, 16, 16]             256\n",
      "           Conv2d-15          [-1, 128, 16, 16]         147,456\n",
      "      BatchNorm2d-16          [-1, 128, 16, 16]             256\n",
      "           Conv2d-17          [-1, 128, 16, 16]           8,192\n",
      "      BatchNorm2d-18          [-1, 128, 16, 16]             256\n",
      "       BasicBlock-19          [-1, 128, 16, 16]               0\n",
      "           Conv2d-20          [-1, 128, 16, 16]         147,456\n",
      "      BatchNorm2d-21          [-1, 128, 16, 16]             256\n",
      "           Conv2d-22          [-1, 128, 16, 16]         147,456\n",
      "      BatchNorm2d-23          [-1, 128, 16, 16]             256\n",
      "       BasicBlock-24          [-1, 128, 16, 16]               0\n",
      "           Conv2d-25            [-1, 256, 8, 8]         294,912\n",
      "      BatchNorm2d-26            [-1, 256, 8, 8]             512\n",
      "           Conv2d-27            [-1, 256, 8, 8]         589,824\n",
      "      BatchNorm2d-28            [-1, 256, 8, 8]             512\n",
      "           Conv2d-29            [-1, 256, 8, 8]          32,768\n",
      "      BatchNorm2d-30            [-1, 256, 8, 8]             512\n",
      "       BasicBlock-31            [-1, 256, 8, 8]               0\n",
      "           Conv2d-32            [-1, 256, 8, 8]         589,824\n",
      "      BatchNorm2d-33            [-1, 256, 8, 8]             512\n",
      "           Conv2d-34            [-1, 256, 8, 8]         589,824\n",
      "      BatchNorm2d-35            [-1, 256, 8, 8]             512\n",
      "       BasicBlock-36            [-1, 256, 8, 8]               0\n",
      "           Conv2d-37            [-1, 512, 4, 4]       1,179,648\n",
      "      BatchNorm2d-38            [-1, 512, 4, 4]           1,024\n",
      "           Conv2d-39            [-1, 512, 4, 4]       2,359,296\n",
      "      BatchNorm2d-40            [-1, 512, 4, 4]           1,024\n",
      "           Conv2d-41            [-1, 512, 4, 4]         131,072\n",
      "      BatchNorm2d-42            [-1, 512, 4, 4]           1,024\n",
      "       BasicBlock-43            [-1, 512, 4, 4]               0\n",
      "           Conv2d-44            [-1, 512, 4, 4]       2,359,296\n",
      "      BatchNorm2d-45            [-1, 512, 4, 4]           1,024\n",
      "           Conv2d-46            [-1, 512, 4, 4]       2,359,296\n",
      "      BatchNorm2d-47            [-1, 512, 4, 4]           1,024\n",
      "       BasicBlock-48            [-1, 512, 4, 4]               0\n",
      "           Linear-49                   [-1, 10]           5,130\n",
      "================================================================\n",
      "Total params: 11,173,962\n",
      "Trainable params: 11,173,962\n",
      "Non-trainable params: 0\n",
      "----------------------------------------------------------------\n",
      "Input size (MB): 0.01\n",
      "Forward/backward pass size (MB): 11.25\n",
      "Params size (MB): 42.63\n",
      "Estimated Total Size (MB): 53.89\n",
      "----------------------------------------------------------------\n"
     ]
    }
   ],
   "source": [
    "model = ResNet18().to(device)  # Create model\n",
    "summary(model, dataset.image_size)  # Display model summary"
   ]
  },
  {
   "cell_type": "markdown",
   "metadata": {
    "colab_type": "text",
    "id": "HcyKrcQEGcdp"
   },
   "source": [
    "# Model Training and Validation"
   ]
  },
  {
   "cell_type": "code",
   "execution_count": 9,
   "metadata": {
    "colab": {
     "base_uri": "https://localhost:8080/",
     "height": 1000
    },
    "colab_type": "code",
    "id": "Pk83iZb2uaEA",
    "outputId": "9e7c4617-e7d7-4a97-8f8e-daf4dec68f01"
   },
   "outputs": [
    {
     "data": {
      "application/vnd.jupyter.widget-view+json": {
       "model_id": "ce9beeb3b4ef4cf5bc1596da7d85cb9f",
       "version_major": 2,
       "version_minor": 0
      },
      "text/plain": [
       "HBox(children=(IntProgress(value=0, max=400), HTML(value='')))"
      ]
     },
     "metadata": {},
     "output_type": "display_data"
    },
    {
     "name": "stdout",
     "output_type": "stream",
     "text": [
      "\n",
      "Learning rate search finished. See the graph with {finder_name}.plot()\n"
     ]
    }
   ],
   "source": [
    "losses = []\n",
    "accuracies = []\n",
    "correct_samples = []\n",
    "incorrect_samples = []\n",
    "\n",
    "criterion = cross_entropy_loss()  # Create loss function\n",
    "optimizer = sgd_optimizer(model, 1e-7, Args.momentum)  # Create optimizer\n",
    "\n",
    "lr_finderr = LRFinder(model,optimizer,criterion,device = \"cuda\")\n",
    "lr_finderr.range_test(train_loader, end_lr=10, num_iter=400,step_mode = \"exp\")"
   ]
  },
  {
   "cell_type": "code",
   "execution_count": 12,
   "metadata": {},
   "outputs": [
    {
     "name": "stdout",
     "output_type": "stream",
     "text": [
      "Best LR to start with:  0.009549925860214368\n",
      "Corresponding loss:  1.8717587295355875\n"
     ]
    },
    {
     "data": {
      "image/png": "[encoded data removed]",
      "text/plain": [
       "<Figure size 432x288 with 1 Axes>"
      ]
     },
     "metadata": {
      "needs_background": "light"
     },
     "output_type": "display_data"
    }
   ],
   "source": [
    "#The best initial learning rate\n",
    "#best_init_lr = lr_finderr.best_lr\n",
    "#print(lr_finderr.best_lr)\n",
    "\n",
    "print(\"Best LR to start with: \",lr_finderr.best_lr)\n",
    "print(\"Corresponding loss: \", lr_finderr.best_loss)\n",
    "\n",
    "# to inspect the loss-learning rate graph\n",
    "lr_finderr.plot()\n",
    "\n",
    "# to reset the model and optimizer to their initial state\n",
    "lr_finderr.reset() "
   ]
  },
  {
   "cell_type": "code",
   "execution_count": 14,
   "metadata": {},
   "outputs": [
    {
     "name": "stdout",
     "output_type": "stream",
     "text": [
      "Epoch 1:\n"
     ]
    },
    {
     "name": "stderr",
     "output_type": "stream",
     "text": [
      "Loss=0.55 Batch_ID=781 Accuracy=50.21: 100%|█████████████████████████████████████████| 782/782 [01:53<00:00,  7.39it/s]\n"
     ]
    },
    {
     "name": "stdout",
     "output_type": "stream",
     "text": [
      "\n",
      "Validation set: Average loss: 0.0163, Accuracy: 6348/10000 (63.48%)\n",
      "\n",
      "Epoch 2:\n"
     ]
    },
    {
     "name": "stderr",
     "output_type": "stream",
     "text": [
      "Loss=0.43 Batch_ID=781 Accuracy=68.48: 100%|█████████████████████████████████████████| 782/782 [01:54<00:00,  7.41it/s]\n"
     ]
    },
    {
     "name": "stdout",
     "output_type": "stream",
     "text": [
      "\n",
      "Validation set: Average loss: 0.0118, Accuracy: 7360/10000 (73.60%)\n",
      "\n",
      "Epoch 3:\n"
     ]
    },
    {
     "name": "stderr",
     "output_type": "stream",
     "text": [
      "Loss=0.89 Batch_ID=781 Accuracy=75.47: 100%|█████████████████████████████████████████| 782/782 [01:54<00:00,  7.42it/s]\n"
     ]
    },
    {
     "name": "stdout",
     "output_type": "stream",
     "text": [
      "\n",
      "Validation set: Average loss: 0.0120, Accuracy: 7428/10000 (74.28%)\n",
      "\n",
      "Epoch 4:\n"
     ]
    },
    {
     "name": "stderr",
     "output_type": "stream",
     "text": [
      "Loss=0.33 Batch_ID=781 Accuracy=78.95: 100%|█████████████████████████████████████████| 782/782 [01:54<00:00,  7.33it/s]\n"
     ]
    },
    {
     "name": "stdout",
     "output_type": "stream",
     "text": [
      "\n",
      "Validation set: Average loss: 0.0088, Accuracy: 8076/10000 (80.76%)\n",
      "\n",
      "Epoch 5:\n"
     ]
    },
    {
     "name": "stderr",
     "output_type": "stream",
     "text": [
      "Loss=0.84 Batch_ID=781 Accuracy=81.91: 100%|█████████████████████████████████████████| 782/782 [01:54<00:00,  7.42it/s]\n"
     ]
    },
    {
     "name": "stdout",
     "output_type": "stream",
     "text": [
      "\n",
      "Validation set: Average loss: 0.0095, Accuracy: 7994/10000 (79.94%)\n",
      "\n",
      "Epoch 6:\n"
     ]
    },
    {
     "name": "stderr",
     "output_type": "stream",
     "text": [
      "Loss=0.47 Batch_ID=781 Accuracy=83.75: 100%|█████████████████████████████████████████| 782/782 [01:54<00:00,  7.40it/s]\n"
     ]
    },
    {
     "name": "stdout",
     "output_type": "stream",
     "text": [
      "\n",
      "Validation set: Average loss: 0.0080, Accuracy: 8320/10000 (83.20%)\n",
      "\n",
      "Epoch 7:\n"
     ]
    },
    {
     "name": "stderr",
     "output_type": "stream",
     "text": [
      "Loss=0.46 Batch_ID=781 Accuracy=85.61: 100%|█████████████████████████████████████████| 782/782 [01:54<00:00,  7.34it/s]\n"
     ]
    },
    {
     "name": "stdout",
     "output_type": "stream",
     "text": [
      "\n",
      "Validation set: Average loss: 0.0098, Accuracy: 8022/10000 (80.22%)\n",
      "\n",
      "Epoch 8:\n"
     ]
    },
    {
     "name": "stderr",
     "output_type": "stream",
     "text": [
      "Loss=0.57 Batch_ID=781 Accuracy=86.72: 100%|█████████████████████████████████████████| 782/782 [01:54<00:00,  7.35it/s]\n"
     ]
    },
    {
     "name": "stdout",
     "output_type": "stream",
     "text": [
      "\n",
      "Validation set: Average loss: 0.0075, Accuracy: 8432/10000 (84.32%)\n",
      "\n",
      "Epoch 9:\n"
     ]
    },
    {
     "name": "stderr",
     "output_type": "stream",
     "text": [
      "Loss=0.58 Batch_ID=781 Accuracy=88.05: 100%|█████████████████████████████████████████| 782/782 [01:54<00:00,  7.46it/s]\n"
     ]
    },
    {
     "name": "stdout",
     "output_type": "stream",
     "text": [
      "\n",
      "Validation set: Average loss: 0.0073, Accuracy: 8469/10000 (84.69%)\n",
      "\n",
      "Epoch 10:\n"
     ]
    },
    {
     "name": "stderr",
     "output_type": "stream",
     "text": [
      "Loss=0.44 Batch_ID=781 Accuracy=89.43: 100%|█████████████████████████████████████████| 782/782 [01:54<00:00,  7.39it/s]\n"
     ]
    },
    {
     "name": "stdout",
     "output_type": "stream",
     "text": [
      "\n",
      "Validation set: Average loss: 0.0076, Accuracy: 8500/10000 (85.00%)\n",
      "\n",
      "Epoch 11:\n"
     ]
    },
    {
     "name": "stderr",
     "output_type": "stream",
     "text": [
      "Loss=0.42 Batch_ID=781 Accuracy=90.01: 100%|█████████████████████████████████████████| 782/782 [01:54<00:00,  7.36it/s]\n"
     ]
    },
    {
     "name": "stdout",
     "output_type": "stream",
     "text": [
      "\n",
      "Validation set: Average loss: 0.0064, Accuracy: 8625/10000 (86.25%)\n",
      "\n",
      "Epoch 12:\n"
     ]
    },
    {
     "name": "stderr",
     "output_type": "stream",
     "text": [
      "Loss=0.29 Batch_ID=781 Accuracy=91.12: 100%|█████████████████████████████████████████| 782/782 [01:54<00:00,  7.36it/s]\n"
     ]
    },
    {
     "name": "stdout",
     "output_type": "stream",
     "text": [
      "\n",
      "Validation set: Average loss: 0.0063, Accuracy: 8701/10000 (87.01%)\n",
      "\n",
      "Epoch 13:\n"
     ]
    },
    {
     "name": "stderr",
     "output_type": "stream",
     "text": [
      "Loss=0.27 Batch_ID=781 Accuracy=91.76: 100%|█████████████████████████████████████████| 782/782 [01:54<00:00,  7.40it/s]\n"
     ]
    },
    {
     "name": "stdout",
     "output_type": "stream",
     "text": [
      "\n",
      "Validation set: Average loss: 0.0064, Accuracy: 8727/10000 (87.27%)\n",
      "\n",
      "Epoch 14:\n"
     ]
    },
    {
     "name": "stderr",
     "output_type": "stream",
     "text": [
      "Loss=0.11 Batch_ID=781 Accuracy=92.07: 100%|█████████████████████████████████████████| 782/782 [01:54<00:00,  7.38it/s]\n"
     ]
    },
    {
     "name": "stdout",
     "output_type": "stream",
     "text": [
      "\n",
      "Validation set: Average loss: 0.0066, Accuracy: 8693/10000 (86.93%)\n",
      "\n",
      "Epoch 15:\n"
     ]
    },
    {
     "name": "stderr",
     "output_type": "stream",
     "text": [
      "Loss=0.10 Batch_ID=781 Accuracy=92.64: 100%|█████████████████████████████████████████| 782/782 [01:54<00:00,  7.40it/s]\n"
     ]
    },
    {
     "name": "stdout",
     "output_type": "stream",
     "text": [
      "\n",
      "Validation set: Average loss: 0.0067, Accuracy: 8722/10000 (87.22%)\n",
      "\n",
      "Epoch 16:\n"
     ]
    },
    {
     "name": "stderr",
     "output_type": "stream",
     "text": [
      "Loss=0.03 Batch_ID=781 Accuracy=93.33: 100%|█████████████████████████████████████████| 782/782 [01:54<00:00,  7.32it/s]\n"
     ]
    },
    {
     "name": "stdout",
     "output_type": "stream",
     "text": [
      "\n",
      "Validation set: Average loss: 0.0063, Accuracy: 8755/10000 (87.55%)\n",
      "\n",
      "Epoch 17:\n"
     ]
    },
    {
     "name": "stderr",
     "output_type": "stream",
     "text": [
      "Loss=0.09 Batch_ID=781 Accuracy=93.75: 100%|█████████████████████████████████████████| 782/782 [01:54<00:00,  7.37it/s]\n"
     ]
    },
    {
     "name": "stdout",
     "output_type": "stream",
     "text": [
      "\n",
      "Validation set: Average loss: 0.0062, Accuracy: 8787/10000 (87.87%)\n",
      "\n",
      "Epoch 18:\n"
     ]
    },
    {
     "name": "stderr",
     "output_type": "stream",
     "text": [
      "Loss=0.14 Batch_ID=781 Accuracy=93.94: 100%|█████████████████████████████████████████| 782/782 [01:54<00:00,  7.37it/s]\n"
     ]
    },
    {
     "name": "stdout",
     "output_type": "stream",
     "text": [
      "\n",
      "Validation set: Average loss: 0.0062, Accuracy: 8833/10000 (88.33%)\n",
      "\n",
      "Epoch 19:\n"
     ]
    },
    {
     "name": "stderr",
     "output_type": "stream",
     "text": [
      "Loss=0.30 Batch_ID=781 Accuracy=94.43: 100%|█████████████████████████████████████████| 782/782 [01:54<00:00,  7.30it/s]\n"
     ]
    },
    {
     "name": "stdout",
     "output_type": "stream",
     "text": [
      "\n",
      "Validation set: Average loss: 0.0072, Accuracy: 8692/10000 (86.92%)\n",
      "\n",
      "Epoch 20:\n"
     ]
    },
    {
     "name": "stderr",
     "output_type": "stream",
     "text": [
      "Loss=0.15 Batch_ID=781 Accuracy=94.73: 100%|█████████████████████████████████████████| 782/782 [01:54<00:00,  7.34it/s]\n"
     ]
    },
    {
     "name": "stdout",
     "output_type": "stream",
     "text": [
      "\n",
      "Validation set: Average loss: 0.0057, Accuracy: 8880/10000 (88.80%)\n",
      "\n",
      "Epoch 21:\n"
     ]
    },
    {
     "name": "stderr",
     "output_type": "stream",
     "text": [
      "Loss=0.05 Batch_ID=781 Accuracy=95.02: 100%|█████████████████████████████████████████| 782/782 [01:54<00:00,  7.34it/s]\n"
     ]
    },
    {
     "name": "stdout",
     "output_type": "stream",
     "text": [
      "\n",
      "Validation set: Average loss: 0.0062, Accuracy: 8846/10000 (88.46%)\n",
      "\n",
      "Epoch 22:\n"
     ]
    },
    {
     "name": "stderr",
     "output_type": "stream",
     "text": [
      "Loss=0.48 Batch_ID=781 Accuracy=95.10: 100%|█████████████████████████████████████████| 782/782 [01:54<00:00,  7.37it/s]\n"
     ]
    },
    {
     "name": "stdout",
     "output_type": "stream",
     "text": [
      "\n",
      "Validation set: Average loss: 0.0059, Accuracy: 8871/10000 (88.71%)\n",
      "\n",
      "Epoch 23:\n"
     ]
    },
    {
     "name": "stderr",
     "output_type": "stream",
     "text": [
      "Loss=0.11 Batch_ID=781 Accuracy=95.51: 100%|█████████████████████████████████████████| 782/782 [01:54<00:00,  7.35it/s]\n"
     ]
    },
    {
     "name": "stdout",
     "output_type": "stream",
     "text": [
      "\n",
      "Validation set: Average loss: 0.0058, Accuracy: 8892/10000 (88.92%)\n",
      "\n",
      "Epoch 24:\n"
     ]
    },
    {
     "name": "stderr",
     "output_type": "stream",
     "text": [
      "Loss=0.01 Batch_ID=781 Accuracy=95.89: 100%|█████████████████████████████████████████| 782/782 [01:54<00:00,  7.36it/s]\n"
     ]
    },
    {
     "name": "stdout",
     "output_type": "stream",
     "text": [
      "\n",
      "Validation set: Average loss: 0.0061, Accuracy: 8905/10000 (89.05%)\n",
      "\n",
      "Epoch 25:\n"
     ]
    },
    {
     "name": "stderr",
     "output_type": "stream",
     "text": [
      "Loss=0.01 Batch_ID=781 Accuracy=95.93: 100%|█████████████████████████████████████████| 782/782 [01:54<00:00,  7.39it/s]\n"
     ]
    },
    {
     "name": "stdout",
     "output_type": "stream",
     "text": [
      "\n",
      "Validation set: Average loss: 0.0060, Accuracy: 8880/10000 (88.80%)\n",
      "\n",
      "Epoch 26:\n"
     ]
    },
    {
     "name": "stderr",
     "output_type": "stream",
     "text": [
      "Loss=0.08 Batch_ID=781 Accuracy=97.25: 100%|█████████████████████████████████████████| 782/782 [01:54<00:00,  7.34it/s]\n"
     ]
    },
    {
     "name": "stdout",
     "output_type": "stream",
     "text": [
      "\n",
      "Validation set: Average loss: 0.0050, Accuracy: 9065/10000 (90.65%)\n",
      "\n",
      "Epoch 27:\n"
     ]
    },
    {
     "name": "stderr",
     "output_type": "stream",
     "text": [
      "Loss=0.42 Batch_ID=781 Accuracy=97.82: 100%|█████████████████████████████████████████| 782/782 [01:54<00:00,  7.36it/s]\n"
     ]
    },
    {
     "name": "stdout",
     "output_type": "stream",
     "text": [
      "\n",
      "Validation set: Average loss: 0.0050, Accuracy: 9074/10000 (90.74%)\n",
      "\n",
      "Epoch 28:\n"
     ]
    },
    {
     "name": "stderr",
     "output_type": "stream",
     "text": [
      "Loss=0.04 Batch_ID=781 Accuracy=97.92: 100%|█████████████████████████████████████████| 782/782 [01:54<00:00,  7.32it/s]\n"
     ]
    },
    {
     "name": "stdout",
     "output_type": "stream",
     "text": [
      "\n",
      "Validation set: Average loss: 0.0050, Accuracy: 9080/10000 (90.80%)\n",
      "\n",
      "Epoch 29:\n"
     ]
    },
    {
     "name": "stderr",
     "output_type": "stream",
     "text": [
      "Loss=0.24 Batch_ID=781 Accuracy=98.11: 100%|█████████████████████████████████████████| 782/782 [01:54<00:00,  7.42it/s]\n"
     ]
    },
    {
     "name": "stdout",
     "output_type": "stream",
     "text": [
      "\n",
      "Validation set: Average loss: 0.0050, Accuracy: 9079/10000 (90.79%)\n",
      "\n",
      "Epoch 30:\n"
     ]
    },
    {
     "name": "stderr",
     "output_type": "stream",
     "text": [
      "Loss=0.01 Batch_ID=781 Accuracy=98.23: 100%|█████████████████████████████████████████| 782/782 [01:54<00:00,  7.34it/s]\n"
     ]
    },
    {
     "name": "stdout",
     "output_type": "stream",
     "text": [
      "\n",
      "Validation set: Average loss: 0.0050, Accuracy: 9076/10000 (90.76%)\n",
      "\n",
      "Epoch 31:\n"
     ]
    },
    {
     "name": "stderr",
     "output_type": "stream",
     "text": [
      "Loss=0.07 Batch_ID=781 Accuracy=98.35: 100%|█████████████████████████████████████████| 782/782 [01:54<00:00,  7.36it/s]\n"
     ]
    },
    {
     "name": "stdout",
     "output_type": "stream",
     "text": [
      "\n",
      "Validation set: Average loss: 0.0049, Accuracy: 9092/10000 (90.92%)\n",
      "\n",
      "Epoch 32:\n"
     ]
    },
    {
     "name": "stderr",
     "output_type": "stream",
     "text": [
      "Loss=0.05 Batch_ID=781 Accuracy=98.30: 100%|█████████████████████████████████████████| 782/782 [01:54<00:00,  7.35it/s]\n"
     ]
    },
    {
     "name": "stdout",
     "output_type": "stream",
     "text": [
      "\n",
      "Validation set: Average loss: 0.0049, Accuracy: 9104/10000 (91.04%)\n",
      "\n",
      "Epoch 33:\n"
     ]
    },
    {
     "name": "stderr",
     "output_type": "stream",
     "text": [
      "Loss=0.09 Batch_ID=781 Accuracy=98.38: 100%|█████████████████████████████████████████| 782/782 [02:05<00:00,  7.40it/s]\n"
     ]
    },
    {
     "name": "stdout",
     "output_type": "stream",
     "text": [
      "\n",
      "Validation set: Average loss: 0.0049, Accuracy: 9096/10000 (90.96%)\n",
      "\n",
      "Epoch 34:\n"
     ]
    },
    {
     "name": "stderr",
     "output_type": "stream",
     "text": [
      "Loss=0.10 Batch_ID=781 Accuracy=98.42: 100%|█████████████████████████████████████████| 782/782 [01:53<00:00,  7.41it/s]\n"
     ]
    },
    {
     "name": "stdout",
     "output_type": "stream",
     "text": [
      "\n",
      "Validation set: Average loss: 0.0050, Accuracy: 9102/10000 (91.02%)\n",
      "\n",
      "Epoch 35:\n"
     ]
    },
    {
     "name": "stderr",
     "output_type": "stream",
     "text": [
      "Loss=0.16 Batch_ID=781 Accuracy=98.37: 100%|█████████████████████████████████████████| 782/782 [01:53<00:00,  7.40it/s]\n"
     ]
    },
    {
     "name": "stdout",
     "output_type": "stream",
     "text": [
      "\n",
      "Validation set: Average loss: 0.0049, Accuracy: 9104/10000 (91.04%)\n",
      "\n",
      "Epoch 36:\n"
     ]
    },
    {
     "name": "stderr",
     "output_type": "stream",
     "text": [
      "Loss=0.09 Batch_ID=781 Accuracy=98.49: 100%|█████████████████████████████████████████| 782/782 [01:54<00:00,  7.41it/s]\n"
     ]
    },
    {
     "name": "stdout",
     "output_type": "stream",
     "text": [
      "\n",
      "Validation set: Average loss: 0.0049, Accuracy: 9111/10000 (91.11%)\n",
      "\n",
      "Epoch 37:\n"
     ]
    },
    {
     "name": "stderr",
     "output_type": "stream",
     "text": [
      "Loss=0.21 Batch_ID=781 Accuracy=98.47: 100%|█████████████████████████████████████████| 782/782 [01:54<00:00,  7.43it/s]\n"
     ]
    },
    {
     "name": "stdout",
     "output_type": "stream",
     "text": [
      "\n",
      "Validation set: Average loss: 0.0049, Accuracy: 9127/10000 (91.27%)\n",
      "\n",
      "Epoch 38:\n"
     ]
    },
    {
     "name": "stderr",
     "output_type": "stream",
     "text": [
      "Loss=0.08 Batch_ID=781 Accuracy=98.51: 100%|█████████████████████████████████████████| 782/782 [01:54<00:00,  7.40it/s]\n"
     ]
    },
    {
     "name": "stdout",
     "output_type": "stream",
     "text": [
      "\n",
      "Validation set: Average loss: 0.0050, Accuracy: 9097/10000 (90.97%)\n",
      "\n",
      "Epoch 39:\n"
     ]
    },
    {
     "name": "stderr",
     "output_type": "stream",
     "text": [
      "Loss=0.02 Batch_ID=781 Accuracy=98.53: 100%|█████████████████████████████████████████| 782/782 [01:54<00:00,  7.39it/s]\n"
     ]
    },
    {
     "name": "stdout",
     "output_type": "stream",
     "text": [
      "\n",
      "Validation set: Average loss: 0.0049, Accuracy: 9121/10000 (91.21%)\n",
      "\n",
      "Epoch 40:\n"
     ]
    },
    {
     "name": "stderr",
     "output_type": "stream",
     "text": [
      "Loss=0.05 Batch_ID=781 Accuracy=98.63: 100%|█████████████████████████████████████████| 782/782 [01:54<00:00,  7.44it/s]\n"
     ]
    },
    {
     "name": "stdout",
     "output_type": "stream",
     "text": [
      "\n",
      "Validation set: Average loss: 0.0050, Accuracy: 9139/10000 (91.39%)\n",
      "\n",
      "Epoch 41:\n"
     ]
    },
    {
     "name": "stderr",
     "output_type": "stream",
     "text": [
      "Loss=0.00 Batch_ID=781 Accuracy=98.56: 100%|█████████████████████████████████████████| 782/782 [01:54<00:00,  7.36it/s]\n"
     ]
    },
    {
     "name": "stdout",
     "output_type": "stream",
     "text": [
      "\n",
      "Validation set: Average loss: 0.0049, Accuracy: 9124/10000 (91.24%)\n",
      "\n",
      "Epoch 42:\n"
     ]
    },
    {
     "name": "stderr",
     "output_type": "stream",
     "text": [
      "Loss=0.01 Batch_ID=781 Accuracy=98.67: 100%|█████████████████████████████████████████| 782/782 [01:54<00:00,  7.38it/s]\n"
     ]
    },
    {
     "name": "stdout",
     "output_type": "stream",
     "text": [
      "\n",
      "Validation set: Average loss: 0.0050, Accuracy: 9127/10000 (91.27%)\n",
      "\n",
      "Epoch 43:\n"
     ]
    },
    {
     "name": "stderr",
     "output_type": "stream",
     "text": [
      "Loss=0.03 Batch_ID=781 Accuracy=98.58: 100%|█████████████████████████████████████████| 782/782 [01:54<00:00,  7.41it/s]\n"
     ]
    },
    {
     "name": "stdout",
     "output_type": "stream",
     "text": [
      "\n",
      "Validation set: Average loss: 0.0050, Accuracy: 9132/10000 (91.32%)\n",
      "\n",
      "Epoch 44:\n"
     ]
    },
    {
     "name": "stderr",
     "output_type": "stream",
     "text": [
      "Loss=0.09 Batch_ID=781 Accuracy=98.68: 100%|█████████████████████████████████████████| 782/782 [01:54<00:00,  7.42it/s]\n"
     ]
    },
    {
     "name": "stdout",
     "output_type": "stream",
     "text": [
      "\n",
      "Validation set: Average loss: 0.0050, Accuracy: 9138/10000 (91.38%)\n",
      "\n",
      "Epoch 45:\n"
     ]
    },
    {
     "name": "stderr",
     "output_type": "stream",
     "text": [
      "Loss=0.09 Batch_ID=781 Accuracy=98.71: 100%|█████████████████████████████████████████| 782/782 [01:54<00:00,  7.40it/s]\n"
     ]
    },
    {
     "name": "stdout",
     "output_type": "stream",
     "text": [
      "\n",
      "Validation set: Average loss: 0.0050, Accuracy: 9113/10000 (91.13%)\n",
      "\n",
      "Epoch 46:\n"
     ]
    },
    {
     "name": "stderr",
     "output_type": "stream",
     "text": [
      "Loss=0.01 Batch_ID=781 Accuracy=98.76: 100%|█████████████████████████████████████████| 782/782 [01:54<00:00,  7.41it/s]\n"
     ]
    },
    {
     "name": "stdout",
     "output_type": "stream",
     "text": [
      "\n",
      "Validation set: Average loss: 0.0050, Accuracy: 9126/10000 (91.26%)\n",
      "\n",
      "Epoch 47:\n"
     ]
    },
    {
     "name": "stderr",
     "output_type": "stream",
     "text": [
      "Loss=0.17 Batch_ID=781 Accuracy=98.75: 100%|█████████████████████████████████████████| 782/782 [01:54<00:00,  7.39it/s]\n"
     ]
    },
    {
     "name": "stdout",
     "output_type": "stream",
     "text": [
      "\n",
      "Validation set: Average loss: 0.0051, Accuracy: 9115/10000 (91.15%)\n",
      "\n",
      "Epoch 48:\n"
     ]
    },
    {
     "name": "stderr",
     "output_type": "stream",
     "text": [
      "Loss=0.02 Batch_ID=781 Accuracy=98.78: 100%|█████████████████████████████████████████| 782/782 [01:54<00:00,  7.42it/s]\n"
     ]
    },
    {
     "name": "stdout",
     "output_type": "stream",
     "text": [
      "\n",
      "Validation set: Average loss: 0.0052, Accuracy: 9121/10000 (91.21%)\n",
      "\n",
      "Epoch 49:\n"
     ]
    },
    {
     "name": "stderr",
     "output_type": "stream",
     "text": [
      "Loss=0.24 Batch_ID=781 Accuracy=98.74: 100%|█████████████████████████████████████████| 782/782 [01:54<00:00,  7.40it/s]\n"
     ]
    },
    {
     "name": "stdout",
     "output_type": "stream",
     "text": [
      "\n",
      "Validation set: Average loss: 0.0050, Accuracy: 9131/10000 (91.31%)\n",
      "\n",
      "Epoch 50:\n"
     ]
    },
    {
     "name": "stderr",
     "output_type": "stream",
     "text": [
      "Loss=0.11 Batch_ID=781 Accuracy=98.89: 100%|█████████████████████████████████████████| 782/782 [01:54<00:00,  7.43it/s]\n"
     ]
    },
    {
     "name": "stdout",
     "output_type": "stream",
     "text": [
      "\n",
      "Validation set: Average loss: 0.0050, Accuracy: 9136/10000 (91.36%)\n",
      "\n"
     ]
    }
   ],
   "source": [
    "optimizer = sgd_optimizer(model, 0.009, Args.momentum)  # Create optimizer\n",
    "torch.optim.lr_scheduler.ReduceLROnPlateau(optimizer, mode='min', factor=0.1, patience=10, \n",
    "                                           verbose=False, threshold=0.0001, threshold_mode='rel',\n",
    "                                           cooldown=0, min_lr=1e-4, eps=1e-08)\n",
    "scheduler = lr_scheduler(optimizer, Args.lr_step_size, Args.lr_gamma)\n",
    "last_epoch = False\n",
    "\n",
    "for epoch in range(1, Args.epochs + 1):\n",
    "    print(f'Epoch {epoch}:')\n",
    "    if epoch == Args.epochs:\n",
    "        last_epoch = True\n",
    "    train(model, train_loader, device, optimizer, criterion)\n",
    "    scheduler.step()\n",
    "    val(\n",
    "        model, val_loader, device, criterion, losses, accuracies,\n",
    "        correct_samples, incorrect_samples, Args.sample_count, last_epoch=last_epoch\n",
    "    )"
   ]
  },
  {
   "cell_type": "markdown",
   "metadata": {
    "colab_type": "text",
    "id": "2o99Jq1XTdo-"
   },
   "source": [
    "## Plotting Results"
   ]
  },
  {
   "cell_type": "markdown",
   "metadata": {
    "colab_type": "text",
    "id": "OvkqQXw-2buM"
   },
   "source": [
    "Plot changes in validation loss"
   ]
  },
  {
   "cell_type": "code",
   "execution_count": 15,
   "metadata": {
    "colab": {
     "base_uri": "https://localhost:8080/",
     "height": 350
    },
    "colab_type": "code",
    "id": "YSZR02cuA067",
    "outputId": "4d5bdf09-bfc9-47c1-f4f6-1b48b29bfe3c"
   },
   "outputs": [
    {
     "data": {
      "image/png": "[encoded data removed]",
      "text/plain": [
       "<Figure size 504x360 with 1 Axes>"
      ]
     },
     "metadata": {
      "needs_background": "light"
     },
     "output_type": "display_data"
    }
   ],
   "source": [
    "plot_metric(\n",
    "    {'Training': train_accuracies, 'Validation': val_accuracies}, 'Accuracy'\n",
    ")"
   ]
  },
  {
   "cell_type": "markdown",
   "metadata": {
    "colab_type": "text",
    "id": "OSctNrPG2afY"
   },
   "source": [
    "Plot changes in validation accuracy"
   ]
  },
  {
   "cell_type": "code",
   "execution_count": 16,
   "metadata": {
    "colab": {
     "base_uri": "https://localhost:8080/",
     "height": 350
    },
    "colab_type": "code",
    "id": "xMFYHCFVA7Z-",
    "outputId": "7c6e4f91-f625-461a-a915-0e534fffd1fd"
   },
   "outputs": [
    {
     "data": {
      "image/png": "[encoded data removed]",
      "text/plain": [
       "<Figure size 504x360 with 1 Axes>"
      ]
     },
     "metadata": {
      "needs_background": "light"
     },
     "output_type": "display_data"
    }
   ],
   "source": [
    "plot_metric(accuracies, 'Accuracy')"
   ]
  },
  {
   "cell_type": "markdown",
   "metadata": {
    "colab_type": "text",
    "id": "kOgRFAwwb5Zn"
   },
   "source": [
    "### GradCAM"
   ]
  },
  {
   "cell_type": "markdown",
   "metadata": {
    "colab_type": "text",
    "id": "w32aNwbz_eJ_"
   },
   "source": [
    "Let's display GradCAM of any random 2 correctly predicted samples"
   ]
  },
  {
   "cell_type": "code",
   "execution_count": 21,
   "metadata": {
    "colab": {
     "base_uri": "https://localhost:8080/",
     "height": 1000
    },
    "colab_type": "code",
    "id": "hDpXseX165oY",
    "outputId": "a484fda5-eb87-401b-f773-a9922e6b049b"
   },
   "outputs": [
    {
     "name": "stdout",
     "output_type": "stream",
     "text": [
      "Mode set to GradCAM.\n"
     ]
    },
    {
     "data": {
      "image/png": "[encoded data removed]",
      "text/plain": [
       "<Figure size 720x720 with 10 Axes>"
      ]
     },
     "metadata": {
      "needs_background": "light"
     },
     "output_type": "display_data"
    },
    {
     "data": {
      "text/plain": [
       "<Figure size 432x288 with 0 Axes>"
      ]
     },
     "metadata": {},
     "output_type": "display_data"
    }
   ],
   "source": [
    "grad_cam = GradCAMView(\n",
    "    model, ['layer1', 'layer2', 'layer3', 'layer4'],\n",
    "    device, dataset.mean, dataset.std\n",
    ")\n",
    "\n",
    "for x in random.sample(incorrect_samples, 25):\n",
    "    images = [x['image']]\n",
    "grad_cam(images, 'grad_cam')"
   ]
  },
  {
   "cell_type": "markdown",
   "metadata": {
    "colab_type": "text",
    "id": "frMHF1KQt0Ff"
   },
   "source": [
    "## Display Correct and Incorrect Predictions"
   ]
  },
  {
   "cell_type": "code",
   "execution_count": null,
   "metadata": {
    "colab": {
     "base_uri": "https://localhost:8080/",
     "height": 1000
    },
    "colab_type": "code",
    "id": "79CqMo3IPasc",
    "outputId": "a9b0550e-8499-430a-cc19-9e855106079d"
   },
   "outputs": [],
   "source": [
    "save_and_show_result(correct_samples, incorrect_samples, dataset.classes)"
   ]
  },
  {
   "cell_type": "code",
   "execution_count": 25,
   "metadata": {
    "colab": {},
    "colab_type": "code",
    "id": "lBXFeKGvXJba"
   },
   "outputs": [],
   "source": [
    "def plot_gradcam(cam_data, pred_data, classes, plot_name):\n",
    "    # Initialize plot\n",
    "    fig, axs = plt.subplots(len(cam_data), 2, figsize=(4, 60))\n",
    "\n",
    "    for idx in range(len(cam_data)):\n",
    "        label = classes[pred_data[idx]['label']]\n",
    "        prediction = classes[pred_data[idx]['prediction']]\n",
    "\n",
    "        axs[idx][0].axis('off')\n",
    "        axs[idx][0].set_title(f'Image: {idx + 1}\\nLabel: {label}')\n",
    "        axs[idx][0].imshow(cam_data[idx]['image'])\n",
    "\n",
    "        axs[idx][1].axis('off')\n",
    "        axs[idx][1].set_title(f'GradCAM: {idx + 1}\\nPrediction: {prediction}')\n",
    "        axs[idx][1].imshow(cam_data[idx]['result']['layer4'])\n",
    "    \n",
    "    # Set spacing\n",
    "    fig.tight_layout()\n",
    "    fig.subplots_adjust(top=1.1)\n",
    "\n",
    "    # Save image\n",
    "    fig.savefig(plot_name, bbox_inches='tight')"
   ]
  },
  {
   "cell_type": "code",
   "execution_count": 26,
   "metadata": {},
   "outputs": [
    {
     "ename": "TypeError",
     "evalue": "'AxesSubplot' object is not subscriptable",
     "output_type": "error",
     "traceback": [
      "\u001b[1;31m---------------------------------------------------------------------------\u001b[0m",
      "\u001b[1;31mTypeError\u001b[0m                                 Traceback (most recent call last)",
      "\u001b[1;32m<ipython-input-26-6e92324fd602>\u001b[0m in \u001b[0;36m<module>\u001b[1;34m\u001b[0m\n\u001b[1;32m----> 1\u001b[1;33m \u001b[0mplot_gradcam\u001b[0m\u001b[1;33m(\u001b[0m\u001b[0mimages\u001b[0m\u001b[1;33m,\u001b[0m \u001b[0mincorrect_samples\u001b[0m\u001b[1;33m,\u001b[0m \u001b[0mdataset\u001b[0m\u001b[1;33m.\u001b[0m\u001b[0mclasses\u001b[0m\u001b[1;33m,\u001b[0m \u001b[1;34m'pred_gradcam.png'\u001b[0m\u001b[1;33m)\u001b[0m\u001b[1;33m\u001b[0m\u001b[1;33m\u001b[0m\u001b[0m\n\u001b[0m",
      "\u001b[1;32m<ipython-input-25-35033d797459>\u001b[0m in \u001b[0;36mplot_gradcam\u001b[1;34m(cam_data, pred_data, classes, plot_name)\u001b[0m\n\u001b[0;32m      8\u001b[0m         \u001b[0mprediction\u001b[0m \u001b[1;33m=\u001b[0m \u001b[0mclasses\u001b[0m\u001b[1;33m[\u001b[0m\u001b[0mpred_data\u001b[0m\u001b[1;33m[\u001b[0m\u001b[0midx\u001b[0m\u001b[1;33m]\u001b[0m\u001b[1;33m[\u001b[0m\u001b[1;34m'prediction'\u001b[0m\u001b[1;33m]\u001b[0m\u001b[1;33m]\u001b[0m\u001b[1;33m\u001b[0m\u001b[1;33m\u001b[0m\u001b[0m\n\u001b[0;32m      9\u001b[0m \u001b[1;33m\u001b[0m\u001b[0m\n\u001b[1;32m---> 10\u001b[1;33m         \u001b[0maxs\u001b[0m\u001b[1;33m[\u001b[0m\u001b[0midx\u001b[0m\u001b[1;33m]\u001b[0m\u001b[1;33m[\u001b[0m\u001b[1;36m0\u001b[0m\u001b[1;33m]\u001b[0m\u001b[1;33m.\u001b[0m\u001b[0maxis\u001b[0m\u001b[1;33m(\u001b[0m\u001b[1;34m'off'\u001b[0m\u001b[1;33m)\u001b[0m\u001b[1;33m\u001b[0m\u001b[1;33m\u001b[0m\u001b[0m\n\u001b[0m\u001b[0;32m     11\u001b[0m         \u001b[0maxs\u001b[0m\u001b[1;33m[\u001b[0m\u001b[0midx\u001b[0m\u001b[1;33m]\u001b[0m\u001b[1;33m[\u001b[0m\u001b[1;36m0\u001b[0m\u001b[1;33m]\u001b[0m\u001b[1;33m.\u001b[0m\u001b[0mset_title\u001b[0m\u001b[1;33m(\u001b[0m\u001b[1;34mf'Image: {idx + 1}\\nLabel: {label}'\u001b[0m\u001b[1;33m)\u001b[0m\u001b[1;33m\u001b[0m\u001b[1;33m\u001b[0m\u001b[0m\n\u001b[0;32m     12\u001b[0m         \u001b[0maxs\u001b[0m\u001b[1;33m[\u001b[0m\u001b[0midx\u001b[0m\u001b[1;33m]\u001b[0m\u001b[1;33m[\u001b[0m\u001b[1;36m0\u001b[0m\u001b[1;33m]\u001b[0m\u001b[1;33m.\u001b[0m\u001b[0mimshow\u001b[0m\u001b[1;33m(\u001b[0m\u001b[0mcam_data\u001b[0m\u001b[1;33m[\u001b[0m\u001b[0midx\u001b[0m\u001b[1;33m]\u001b[0m\u001b[1;33m[\u001b[0m\u001b[1;34m'image'\u001b[0m\u001b[1;33m]\u001b[0m\u001b[1;33m)\u001b[0m\u001b[1;33m\u001b[0m\u001b[1;33m\u001b[0m\u001b[0m\n",
      "\u001b[1;31mTypeError\u001b[0m: 'AxesSubplot' object is not subscriptable"
     ]
    },
    {
     "data": {
      "image/png": "[encoded data removed]",
      "text/plain": [
       "<Figure size 288x4320 with 2 Axes>"
      ]
     },
     "metadata": {
      "needs_background": "light"
     },
     "output_type": "display_data"
    }
   ],
   "source": [
    "plot_gradcam(gradcam_views, incorrect_samples, dataset.classes, 'pred_gradcam.png')"
   ]
  },
  {
   "cell_type": "code",
   "execution_count": null,
   "metadata": {},
   "outputs": [],
   "source": []
  }
 ],
 "metadata": {
  "accelerator": "GPU",
  "colab": {
   "collapsed_sections": [],
   "name": "EVA4S9.ipynb",
   "provenance": []
  },
  "kernelspec": {
   "display_name": "Python 3",
   "language": "python",
   "name": "python3"
  },
  "language_info": {
   "codemirror_mode": {
    "name": "ipython",
    "version": 3
   },
   "file_extension": ".py",
   "mimetype": "text/x-python",
   "name": "python",
   "nbconvert_exporter": "python",
   "pygments_lexer": "ipython3",
   "version": "3.7.3"
  }
 },
 "nbformat": 4,
 "nbformat_minor": 1
}
